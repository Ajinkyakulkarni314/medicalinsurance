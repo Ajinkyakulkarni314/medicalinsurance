{
 "cells": [
  {
   "cell_type": "markdown",
   "id": "692ec0be",
   "metadata": {},
   "source": [
    "# ---------------------------------Medical Insurance Dataset--------------------------------"
   ]
  },
  {
   "cell_type": "code",
   "execution_count": 141,
   "id": "294757d5",
   "metadata": {},
   "outputs": [],
   "source": [
    "import pandas as pd\n",
    "import numpy as np\n",
    "\n",
    "import matplotlib.pyplot as plt\n",
    "import seaborn as sns\n",
    "\n",
    "from sklearn.linear_model import LinearRegression,LogisticRegression,Ridge,Lasso\n",
    "from sklearn.model_selection import train_test_split\n",
    "from sklearn.metrics import r2_score,mean_absolute_error,mean_squared_error\n",
    "\n",
    "from sklearn.neighbors import KNeighborsRegressor\n",
    "from sklearn.preprocessing import MinMaxScaler\n",
    "\n",
    "from sklearn.model_selection import GridSearchCV,RandomizedSearchCV\n",
    "\n",
    "from scipy import stats"
   ]
  },
  {
   "cell_type": "code",
   "execution_count": 69,
   "id": "17d5c48e",
   "metadata": {},
   "outputs": [],
   "source": [
    "# # Problem Statement\n",
    "\n",
    "# To Predict Necessary Insurance Amount "
   ]
  },
  {
   "cell_type": "code",
   "execution_count": 70,
   "id": "487514d4",
   "metadata": {},
   "outputs": [
    {
     "data": {
      "text/html": [
       "<div>\n",
       "<style scoped>\n",
       "    .dataframe tbody tr th:only-of-type {\n",
       "        vertical-align: middle;\n",
       "    }\n",
       "\n",
       "    .dataframe tbody tr th {\n",
       "        vertical-align: top;\n",
       "    }\n",
       "\n",
       "    .dataframe thead th {\n",
       "        text-align: right;\n",
       "    }\n",
       "</style>\n",
       "<table border=\"1\" class=\"dataframe\">\n",
       "  <thead>\n",
       "    <tr style=\"text-align: right;\">\n",
       "      <th></th>\n",
       "      <th>age</th>\n",
       "      <th>sex</th>\n",
       "      <th>bmi</th>\n",
       "      <th>children</th>\n",
       "      <th>smoker</th>\n",
       "      <th>region</th>\n",
       "      <th>charges</th>\n",
       "    </tr>\n",
       "  </thead>\n",
       "  <tbody>\n",
       "    <tr>\n",
       "      <th>0</th>\n",
       "      <td>19</td>\n",
       "      <td>female</td>\n",
       "      <td>27.900</td>\n",
       "      <td>0</td>\n",
       "      <td>yes</td>\n",
       "      <td>southwest</td>\n",
       "      <td>16884.92400</td>\n",
       "    </tr>\n",
       "    <tr>\n",
       "      <th>1</th>\n",
       "      <td>18</td>\n",
       "      <td>male</td>\n",
       "      <td>33.770</td>\n",
       "      <td>1</td>\n",
       "      <td>no</td>\n",
       "      <td>southeast</td>\n",
       "      <td>1725.55230</td>\n",
       "    </tr>\n",
       "    <tr>\n",
       "      <th>2</th>\n",
       "      <td>28</td>\n",
       "      <td>male</td>\n",
       "      <td>33.000</td>\n",
       "      <td>3</td>\n",
       "      <td>no</td>\n",
       "      <td>southeast</td>\n",
       "      <td>4449.46200</td>\n",
       "    </tr>\n",
       "    <tr>\n",
       "      <th>3</th>\n",
       "      <td>33</td>\n",
       "      <td>male</td>\n",
       "      <td>22.705</td>\n",
       "      <td>0</td>\n",
       "      <td>no</td>\n",
       "      <td>northwest</td>\n",
       "      <td>21984.47061</td>\n",
       "    </tr>\n",
       "    <tr>\n",
       "      <th>4</th>\n",
       "      <td>32</td>\n",
       "      <td>male</td>\n",
       "      <td>28.880</td>\n",
       "      <td>0</td>\n",
       "      <td>no</td>\n",
       "      <td>northwest</td>\n",
       "      <td>3866.85520</td>\n",
       "    </tr>\n",
       "    <tr>\n",
       "      <th>...</th>\n",
       "      <td>...</td>\n",
       "      <td>...</td>\n",
       "      <td>...</td>\n",
       "      <td>...</td>\n",
       "      <td>...</td>\n",
       "      <td>...</td>\n",
       "      <td>...</td>\n",
       "    </tr>\n",
       "    <tr>\n",
       "      <th>1333</th>\n",
       "      <td>50</td>\n",
       "      <td>male</td>\n",
       "      <td>30.970</td>\n",
       "      <td>3</td>\n",
       "      <td>no</td>\n",
       "      <td>northwest</td>\n",
       "      <td>10600.54830</td>\n",
       "    </tr>\n",
       "    <tr>\n",
       "      <th>1334</th>\n",
       "      <td>18</td>\n",
       "      <td>female</td>\n",
       "      <td>31.920</td>\n",
       "      <td>0</td>\n",
       "      <td>no</td>\n",
       "      <td>northeast</td>\n",
       "      <td>2205.98080</td>\n",
       "    </tr>\n",
       "    <tr>\n",
       "      <th>1335</th>\n",
       "      <td>18</td>\n",
       "      <td>female</td>\n",
       "      <td>36.850</td>\n",
       "      <td>0</td>\n",
       "      <td>no</td>\n",
       "      <td>southeast</td>\n",
       "      <td>1629.83350</td>\n",
       "    </tr>\n",
       "    <tr>\n",
       "      <th>1336</th>\n",
       "      <td>21</td>\n",
       "      <td>female</td>\n",
       "      <td>25.800</td>\n",
       "      <td>0</td>\n",
       "      <td>no</td>\n",
       "      <td>southwest</td>\n",
       "      <td>2007.94500</td>\n",
       "    </tr>\n",
       "    <tr>\n",
       "      <th>1337</th>\n",
       "      <td>61</td>\n",
       "      <td>female</td>\n",
       "      <td>29.070</td>\n",
       "      <td>0</td>\n",
       "      <td>yes</td>\n",
       "      <td>northwest</td>\n",
       "      <td>29141.36030</td>\n",
       "    </tr>\n",
       "  </tbody>\n",
       "</table>\n",
       "<p>1338 rows × 7 columns</p>\n",
       "</div>"
      ],
      "text/plain": [
       "      age     sex     bmi  children smoker     region      charges\n",
       "0      19  female  27.900         0    yes  southwest  16884.92400\n",
       "1      18    male  33.770         1     no  southeast   1725.55230\n",
       "2      28    male  33.000         3     no  southeast   4449.46200\n",
       "3      33    male  22.705         0     no  northwest  21984.47061\n",
       "4      32    male  28.880         0     no  northwest   3866.85520\n",
       "...   ...     ...     ...       ...    ...        ...          ...\n",
       "1333   50    male  30.970         3     no  northwest  10600.54830\n",
       "1334   18  female  31.920         0     no  northeast   2205.98080\n",
       "1335   18  female  36.850         0     no  southeast   1629.83350\n",
       "1336   21  female  25.800         0     no  southwest   2007.94500\n",
       "1337   61  female  29.070         0    yes  northwest  29141.36030\n",
       "\n",
       "[1338 rows x 7 columns]"
      ]
     },
     "execution_count": 70,
     "metadata": {},
     "output_type": "execute_result"
    }
   ],
   "source": [
    "df=pd.read_csv('medical_insurance.csv')\n",
    "df"
   ]
  },
  {
   "cell_type": "code",
   "execution_count": 71,
   "id": "3e8a2dfa",
   "metadata": {},
   "outputs": [
    {
     "name": "stdout",
     "output_type": "stream",
     "text": [
      "<class 'pandas.core.frame.DataFrame'>\n",
      "RangeIndex: 1338 entries, 0 to 1337\n",
      "Data columns (total 7 columns):\n",
      " #   Column    Non-Null Count  Dtype  \n",
      "---  ------    --------------  -----  \n",
      " 0   age       1338 non-null   int64  \n",
      " 1   sex       1338 non-null   object \n",
      " 2   bmi       1338 non-null   float64\n",
      " 3   children  1338 non-null   int64  \n",
      " 4   smoker    1338 non-null   object \n",
      " 5   region    1338 non-null   object \n",
      " 6   charges   1338 non-null   float64\n",
      "dtypes: float64(2), int64(2), object(3)\n",
      "memory usage: 73.3+ KB\n"
     ]
    }
   ],
   "source": [
    "df.info()"
   ]
  },
  {
   "cell_type": "code",
   "execution_count": 72,
   "id": "c5fea052",
   "metadata": {},
   "outputs": [
    {
     "data": {
      "text/html": [
       "<div>\n",
       "<style scoped>\n",
       "    .dataframe tbody tr th:only-of-type {\n",
       "        vertical-align: middle;\n",
       "    }\n",
       "\n",
       "    .dataframe tbody tr th {\n",
       "        vertical-align: top;\n",
       "    }\n",
       "\n",
       "    .dataframe thead th {\n",
       "        text-align: right;\n",
       "    }\n",
       "</style>\n",
       "<table border=\"1\" class=\"dataframe\">\n",
       "  <thead>\n",
       "    <tr style=\"text-align: right;\">\n",
       "      <th></th>\n",
       "      <th>age</th>\n",
       "      <th>bmi</th>\n",
       "      <th>children</th>\n",
       "      <th>charges</th>\n",
       "    </tr>\n",
       "  </thead>\n",
       "  <tbody>\n",
       "    <tr>\n",
       "      <th>count</th>\n",
       "      <td>1338.000000</td>\n",
       "      <td>1338.000000</td>\n",
       "      <td>1338.000000</td>\n",
       "      <td>1338.000000</td>\n",
       "    </tr>\n",
       "    <tr>\n",
       "      <th>mean</th>\n",
       "      <td>39.207025</td>\n",
       "      <td>30.663397</td>\n",
       "      <td>1.094918</td>\n",
       "      <td>13270.422265</td>\n",
       "    </tr>\n",
       "    <tr>\n",
       "      <th>std</th>\n",
       "      <td>14.049960</td>\n",
       "      <td>6.098187</td>\n",
       "      <td>1.205493</td>\n",
       "      <td>12110.011237</td>\n",
       "    </tr>\n",
       "    <tr>\n",
       "      <th>min</th>\n",
       "      <td>18.000000</td>\n",
       "      <td>15.960000</td>\n",
       "      <td>0.000000</td>\n",
       "      <td>1121.873900</td>\n",
       "    </tr>\n",
       "    <tr>\n",
       "      <th>25%</th>\n",
       "      <td>27.000000</td>\n",
       "      <td>26.296250</td>\n",
       "      <td>0.000000</td>\n",
       "      <td>4740.287150</td>\n",
       "    </tr>\n",
       "    <tr>\n",
       "      <th>50%</th>\n",
       "      <td>39.000000</td>\n",
       "      <td>30.400000</td>\n",
       "      <td>1.000000</td>\n",
       "      <td>9382.033000</td>\n",
       "    </tr>\n",
       "    <tr>\n",
       "      <th>75%</th>\n",
       "      <td>51.000000</td>\n",
       "      <td>34.693750</td>\n",
       "      <td>2.000000</td>\n",
       "      <td>16639.912515</td>\n",
       "    </tr>\n",
       "    <tr>\n",
       "      <th>max</th>\n",
       "      <td>64.000000</td>\n",
       "      <td>53.130000</td>\n",
       "      <td>5.000000</td>\n",
       "      <td>63770.428010</td>\n",
       "    </tr>\n",
       "  </tbody>\n",
       "</table>\n",
       "</div>"
      ],
      "text/plain": [
       "               age          bmi     children       charges\n",
       "count  1338.000000  1338.000000  1338.000000   1338.000000\n",
       "mean     39.207025    30.663397     1.094918  13270.422265\n",
       "std      14.049960     6.098187     1.205493  12110.011237\n",
       "min      18.000000    15.960000     0.000000   1121.873900\n",
       "25%      27.000000    26.296250     0.000000   4740.287150\n",
       "50%      39.000000    30.400000     1.000000   9382.033000\n",
       "75%      51.000000    34.693750     2.000000  16639.912515\n",
       "max      64.000000    53.130000     5.000000  63770.428010"
      ]
     },
     "execution_count": 72,
     "metadata": {},
     "output_type": "execute_result"
    }
   ],
   "source": [
    "df.describe()"
   ]
  },
  {
   "cell_type": "code",
   "execution_count": 73,
   "id": "71a3ce19",
   "metadata": {},
   "outputs": [
    {
     "data": {
      "text/plain": [
       "age         0\n",
       "sex         0\n",
       "bmi         0\n",
       "children    0\n",
       "smoker      0\n",
       "region      0\n",
       "charges     0\n",
       "dtype: int64"
      ]
     },
     "execution_count": 73,
     "metadata": {},
     "output_type": "execute_result"
    }
   ],
   "source": [
    "df.isna().sum()"
   ]
  },
  {
   "cell_type": "code",
   "execution_count": 74,
   "id": "746377d3",
   "metadata": {},
   "outputs": [
    {
     "data": {
      "text/plain": [
       "Index(['age', 'sex', 'bmi', 'children', 'smoker', 'region', 'charges'], dtype='object')"
      ]
     },
     "execution_count": 74,
     "metadata": {},
     "output_type": "execute_result"
    }
   ],
   "source": [
    "df.columns\n"
   ]
  },
  {
   "cell_type": "markdown",
   "id": "7139de0b",
   "metadata": {},
   "source": [
    "# 1.Age"
   ]
  },
  {
   "cell_type": "code",
   "execution_count": 75,
   "id": "83895f87",
   "metadata": {},
   "outputs": [
    {
     "data": {
      "text/plain": [
       "18    69\n",
       "19    68\n",
       "50    29\n",
       "51    29\n",
       "47    29\n",
       "46    29\n",
       "45    29\n",
       "20    29\n",
       "48    29\n",
       "52    29\n",
       "22    28\n",
       "49    28\n",
       "54    28\n",
       "53    28\n",
       "21    28\n",
       "26    28\n",
       "24    28\n",
       "25    28\n",
       "28    28\n",
       "27    28\n",
       "23    28\n",
       "43    27\n",
       "29    27\n",
       "30    27\n",
       "41    27\n",
       "42    27\n",
       "44    27\n",
       "31    27\n",
       "40    27\n",
       "32    26\n",
       "33    26\n",
       "56    26\n",
       "34    26\n",
       "55    26\n",
       "57    26\n",
       "37    25\n",
       "59    25\n",
       "58    25\n",
       "36    25\n",
       "38    25\n",
       "35    25\n",
       "39    25\n",
       "61    23\n",
       "60    23\n",
       "63    23\n",
       "62    23\n",
       "64    22\n",
       "Name: age, dtype: int64"
      ]
     },
     "execution_count": 75,
     "metadata": {},
     "output_type": "execute_result"
    }
   ],
   "source": [
    "df['age'].value_counts()"
   ]
  },
  {
   "cell_type": "markdown",
   "id": "fa7fe943",
   "metadata": {},
   "source": [
    "# 2.Sex"
   ]
  },
  {
   "cell_type": "code",
   "execution_count": 76,
   "id": "910c34b1",
   "metadata": {},
   "outputs": [
    {
     "data": {
      "text/plain": [
       "{'male': 676, 'female': 662}"
      ]
     },
     "execution_count": 76,
     "metadata": {},
     "output_type": "execute_result"
    }
   ],
   "source": [
    "df['sex'].value_counts().to_dict()"
   ]
  },
  {
   "cell_type": "code",
   "execution_count": 77,
   "id": "1eca2a8c",
   "metadata": {},
   "outputs": [],
   "source": [
    "df['sex']=df['sex'].replace({'male': 0, 'female': 1})"
   ]
  },
  {
   "cell_type": "code",
   "execution_count": 78,
   "id": "68de0488",
   "metadata": {},
   "outputs": [
    {
     "data": {
      "text/plain": [
       "0    676\n",
       "1    662\n",
       "Name: sex, dtype: int64"
      ]
     },
     "execution_count": 78,
     "metadata": {},
     "output_type": "execute_result"
    }
   ],
   "source": [
    "df['sex'].value_counts()"
   ]
  },
  {
   "cell_type": "markdown",
   "id": "77171c4c",
   "metadata": {},
   "source": [
    "# 3.BMI"
   ]
  },
  {
   "cell_type": "code",
   "execution_count": 79,
   "id": "6287f624",
   "metadata": {},
   "outputs": [
    {
     "data": {
      "text/plain": [
       "32.300    13\n",
       "28.310     9\n",
       "30.495     8\n",
       "30.875     8\n",
       "31.350     8\n",
       "          ..\n",
       "46.200     1\n",
       "23.800     1\n",
       "44.770     1\n",
       "32.120     1\n",
       "30.970     1\n",
       "Name: bmi, Length: 548, dtype: int64"
      ]
     },
     "execution_count": 79,
     "metadata": {},
     "output_type": "execute_result"
    }
   ],
   "source": [
    "df['bmi'].value_counts()"
   ]
  },
  {
   "cell_type": "markdown",
   "id": "23e00307",
   "metadata": {},
   "source": [
    "# 4.Children"
   ]
  },
  {
   "cell_type": "code",
   "execution_count": 80,
   "id": "c2c77e06",
   "metadata": {},
   "outputs": [
    {
     "data": {
      "text/plain": [
       "0    574\n",
       "1    324\n",
       "2    240\n",
       "3    157\n",
       "4     25\n",
       "5     18\n",
       "Name: children, dtype: int64"
      ]
     },
     "execution_count": 80,
     "metadata": {},
     "output_type": "execute_result"
    }
   ],
   "source": [
    "df['children'].value_counts()"
   ]
  },
  {
   "cell_type": "markdown",
   "id": "09d4987a",
   "metadata": {},
   "source": [
    "# 5.Smoker"
   ]
  },
  {
   "cell_type": "code",
   "execution_count": 81,
   "id": "79abd651",
   "metadata": {},
   "outputs": [
    {
     "data": {
      "text/plain": [
       "{'no': 1064, 'yes': 274}"
      ]
     },
     "execution_count": 81,
     "metadata": {},
     "output_type": "execute_result"
    }
   ],
   "source": [
    "df['smoker'].value_counts().to_dict()"
   ]
  },
  {
   "cell_type": "code",
   "execution_count": 82,
   "id": "dc8410b3",
   "metadata": {},
   "outputs": [],
   "source": [
    "df['smoker'].replace({'no': 0, 'yes': 1},inplace=True)"
   ]
  },
  {
   "cell_type": "code",
   "execution_count": 83,
   "id": "177cfd1e",
   "metadata": {},
   "outputs": [
    {
     "data": {
      "text/plain": [
       "0    1064\n",
       "1     274\n",
       "Name: smoker, dtype: int64"
      ]
     },
     "execution_count": 83,
     "metadata": {},
     "output_type": "execute_result"
    }
   ],
   "source": [
    "df['smoker'].value_counts()"
   ]
  },
  {
   "cell_type": "markdown",
   "id": "a3d17254",
   "metadata": {},
   "source": [
    "# 6.Region"
   ]
  },
  {
   "cell_type": "code",
   "execution_count": 84,
   "id": "12518911",
   "metadata": {},
   "outputs": [],
   "source": [
    "df=pd.get_dummies(df,columns=['region'])"
   ]
  },
  {
   "cell_type": "code",
   "execution_count": 85,
   "id": "86c56aa1",
   "metadata": {},
   "outputs": [
    {
     "data": {
      "text/html": [
       "<div>\n",
       "<style scoped>\n",
       "    .dataframe tbody tr th:only-of-type {\n",
       "        vertical-align: middle;\n",
       "    }\n",
       "\n",
       "    .dataframe tbody tr th {\n",
       "        vertical-align: top;\n",
       "    }\n",
       "\n",
       "    .dataframe thead th {\n",
       "        text-align: right;\n",
       "    }\n",
       "</style>\n",
       "<table border=\"1\" class=\"dataframe\">\n",
       "  <thead>\n",
       "    <tr style=\"text-align: right;\">\n",
       "      <th></th>\n",
       "      <th>age</th>\n",
       "      <th>sex</th>\n",
       "      <th>bmi</th>\n",
       "      <th>children</th>\n",
       "      <th>smoker</th>\n",
       "      <th>charges</th>\n",
       "      <th>region_northeast</th>\n",
       "      <th>region_northwest</th>\n",
       "      <th>region_southeast</th>\n",
       "      <th>region_southwest</th>\n",
       "    </tr>\n",
       "  </thead>\n",
       "  <tbody>\n",
       "    <tr>\n",
       "      <th>0</th>\n",
       "      <td>19</td>\n",
       "      <td>1</td>\n",
       "      <td>27.900</td>\n",
       "      <td>0</td>\n",
       "      <td>1</td>\n",
       "      <td>16884.92400</td>\n",
       "      <td>0</td>\n",
       "      <td>0</td>\n",
       "      <td>0</td>\n",
       "      <td>1</td>\n",
       "    </tr>\n",
       "    <tr>\n",
       "      <th>1</th>\n",
       "      <td>18</td>\n",
       "      <td>0</td>\n",
       "      <td>33.770</td>\n",
       "      <td>1</td>\n",
       "      <td>0</td>\n",
       "      <td>1725.55230</td>\n",
       "      <td>0</td>\n",
       "      <td>0</td>\n",
       "      <td>1</td>\n",
       "      <td>0</td>\n",
       "    </tr>\n",
       "    <tr>\n",
       "      <th>2</th>\n",
       "      <td>28</td>\n",
       "      <td>0</td>\n",
       "      <td>33.000</td>\n",
       "      <td>3</td>\n",
       "      <td>0</td>\n",
       "      <td>4449.46200</td>\n",
       "      <td>0</td>\n",
       "      <td>0</td>\n",
       "      <td>1</td>\n",
       "      <td>0</td>\n",
       "    </tr>\n",
       "    <tr>\n",
       "      <th>3</th>\n",
       "      <td>33</td>\n",
       "      <td>0</td>\n",
       "      <td>22.705</td>\n",
       "      <td>0</td>\n",
       "      <td>0</td>\n",
       "      <td>21984.47061</td>\n",
       "      <td>0</td>\n",
       "      <td>1</td>\n",
       "      <td>0</td>\n",
       "      <td>0</td>\n",
       "    </tr>\n",
       "    <tr>\n",
       "      <th>4</th>\n",
       "      <td>32</td>\n",
       "      <td>0</td>\n",
       "      <td>28.880</td>\n",
       "      <td>0</td>\n",
       "      <td>0</td>\n",
       "      <td>3866.85520</td>\n",
       "      <td>0</td>\n",
       "      <td>1</td>\n",
       "      <td>0</td>\n",
       "      <td>0</td>\n",
       "    </tr>\n",
       "    <tr>\n",
       "      <th>...</th>\n",
       "      <td>...</td>\n",
       "      <td>...</td>\n",
       "      <td>...</td>\n",
       "      <td>...</td>\n",
       "      <td>...</td>\n",
       "      <td>...</td>\n",
       "      <td>...</td>\n",
       "      <td>...</td>\n",
       "      <td>...</td>\n",
       "      <td>...</td>\n",
       "    </tr>\n",
       "    <tr>\n",
       "      <th>1333</th>\n",
       "      <td>50</td>\n",
       "      <td>0</td>\n",
       "      <td>30.970</td>\n",
       "      <td>3</td>\n",
       "      <td>0</td>\n",
       "      <td>10600.54830</td>\n",
       "      <td>0</td>\n",
       "      <td>1</td>\n",
       "      <td>0</td>\n",
       "      <td>0</td>\n",
       "    </tr>\n",
       "    <tr>\n",
       "      <th>1334</th>\n",
       "      <td>18</td>\n",
       "      <td>1</td>\n",
       "      <td>31.920</td>\n",
       "      <td>0</td>\n",
       "      <td>0</td>\n",
       "      <td>2205.98080</td>\n",
       "      <td>1</td>\n",
       "      <td>0</td>\n",
       "      <td>0</td>\n",
       "      <td>0</td>\n",
       "    </tr>\n",
       "    <tr>\n",
       "      <th>1335</th>\n",
       "      <td>18</td>\n",
       "      <td>1</td>\n",
       "      <td>36.850</td>\n",
       "      <td>0</td>\n",
       "      <td>0</td>\n",
       "      <td>1629.83350</td>\n",
       "      <td>0</td>\n",
       "      <td>0</td>\n",
       "      <td>1</td>\n",
       "      <td>0</td>\n",
       "    </tr>\n",
       "    <tr>\n",
       "      <th>1336</th>\n",
       "      <td>21</td>\n",
       "      <td>1</td>\n",
       "      <td>25.800</td>\n",
       "      <td>0</td>\n",
       "      <td>0</td>\n",
       "      <td>2007.94500</td>\n",
       "      <td>0</td>\n",
       "      <td>0</td>\n",
       "      <td>0</td>\n",
       "      <td>1</td>\n",
       "    </tr>\n",
       "    <tr>\n",
       "      <th>1337</th>\n",
       "      <td>61</td>\n",
       "      <td>1</td>\n",
       "      <td>29.070</td>\n",
       "      <td>0</td>\n",
       "      <td>1</td>\n",
       "      <td>29141.36030</td>\n",
       "      <td>0</td>\n",
       "      <td>1</td>\n",
       "      <td>0</td>\n",
       "      <td>0</td>\n",
       "    </tr>\n",
       "  </tbody>\n",
       "</table>\n",
       "<p>1338 rows × 10 columns</p>\n",
       "</div>"
      ],
      "text/plain": [
       "      age  sex     bmi  children  smoker      charges  region_northeast  \\\n",
       "0      19    1  27.900         0       1  16884.92400                 0   \n",
       "1      18    0  33.770         1       0   1725.55230                 0   \n",
       "2      28    0  33.000         3       0   4449.46200                 0   \n",
       "3      33    0  22.705         0       0  21984.47061                 0   \n",
       "4      32    0  28.880         0       0   3866.85520                 0   \n",
       "...   ...  ...     ...       ...     ...          ...               ...   \n",
       "1333   50    0  30.970         3       0  10600.54830                 0   \n",
       "1334   18    1  31.920         0       0   2205.98080                 1   \n",
       "1335   18    1  36.850         0       0   1629.83350                 0   \n",
       "1336   21    1  25.800         0       0   2007.94500                 0   \n",
       "1337   61    1  29.070         0       1  29141.36030                 0   \n",
       "\n",
       "      region_northwest  region_southeast  region_southwest  \n",
       "0                    0                 0                 1  \n",
       "1                    0                 1                 0  \n",
       "2                    0                 1                 0  \n",
       "3                    1                 0                 0  \n",
       "4                    1                 0                 0  \n",
       "...                ...               ...               ...  \n",
       "1333                 1                 0                 0  \n",
       "1334                 0                 0                 0  \n",
       "1335                 0                 1                 0  \n",
       "1336                 0                 0                 1  \n",
       "1337                 1                 0                 0  \n",
       "\n",
       "[1338 rows x 10 columns]"
      ]
     },
     "execution_count": 85,
     "metadata": {},
     "output_type": "execute_result"
    }
   ],
   "source": [
    "df"
   ]
  },
  {
   "cell_type": "markdown",
   "id": "1ae921a8",
   "metadata": {},
   "source": [
    "# 7.Charges"
   ]
  },
  {
   "cell_type": "code",
   "execution_count": 86,
   "id": "ec587c02",
   "metadata": {},
   "outputs": [
    {
     "data": {
      "text/plain": [
       "1639.56310     2\n",
       "16884.92400    1\n",
       "29330.98315    1\n",
       "2221.56445     1\n",
       "19798.05455    1\n",
       "              ..\n",
       "7345.08400     1\n",
       "26109.32905    1\n",
       "28287.89766    1\n",
       "1149.39590     1\n",
       "29141.36030    1\n",
       "Name: charges, Length: 1337, dtype: int64"
      ]
     },
     "execution_count": 86,
     "metadata": {},
     "output_type": "execute_result"
    }
   ],
   "source": [
    "df['charges'].value_counts()"
   ]
  },
  {
   "cell_type": "code",
   "execution_count": 87,
   "id": "0116baf3",
   "metadata": {},
   "outputs": [
    {
     "data": {
      "text/html": [
       "<div>\n",
       "<style scoped>\n",
       "    .dataframe tbody tr th:only-of-type {\n",
       "        vertical-align: middle;\n",
       "    }\n",
       "\n",
       "    .dataframe tbody tr th {\n",
       "        vertical-align: top;\n",
       "    }\n",
       "\n",
       "    .dataframe thead th {\n",
       "        text-align: right;\n",
       "    }\n",
       "</style>\n",
       "<table border=\"1\" class=\"dataframe\">\n",
       "  <thead>\n",
       "    <tr style=\"text-align: right;\">\n",
       "      <th></th>\n",
       "      <th>age</th>\n",
       "      <th>sex</th>\n",
       "      <th>bmi</th>\n",
       "      <th>children</th>\n",
       "      <th>smoker</th>\n",
       "      <th>charges</th>\n",
       "      <th>region_northeast</th>\n",
       "      <th>region_northwest</th>\n",
       "      <th>region_southeast</th>\n",
       "      <th>region_southwest</th>\n",
       "    </tr>\n",
       "  </thead>\n",
       "  <tbody>\n",
       "    <tr>\n",
       "      <th>0</th>\n",
       "      <td>19</td>\n",
       "      <td>1</td>\n",
       "      <td>27.900</td>\n",
       "      <td>0</td>\n",
       "      <td>1</td>\n",
       "      <td>16884.92400</td>\n",
       "      <td>0</td>\n",
       "      <td>0</td>\n",
       "      <td>0</td>\n",
       "      <td>1</td>\n",
       "    </tr>\n",
       "    <tr>\n",
       "      <th>1</th>\n",
       "      <td>18</td>\n",
       "      <td>0</td>\n",
       "      <td>33.770</td>\n",
       "      <td>1</td>\n",
       "      <td>0</td>\n",
       "      <td>1725.55230</td>\n",
       "      <td>0</td>\n",
       "      <td>0</td>\n",
       "      <td>1</td>\n",
       "      <td>0</td>\n",
       "    </tr>\n",
       "    <tr>\n",
       "      <th>2</th>\n",
       "      <td>28</td>\n",
       "      <td>0</td>\n",
       "      <td>33.000</td>\n",
       "      <td>3</td>\n",
       "      <td>0</td>\n",
       "      <td>4449.46200</td>\n",
       "      <td>0</td>\n",
       "      <td>0</td>\n",
       "      <td>1</td>\n",
       "      <td>0</td>\n",
       "    </tr>\n",
       "    <tr>\n",
       "      <th>3</th>\n",
       "      <td>33</td>\n",
       "      <td>0</td>\n",
       "      <td>22.705</td>\n",
       "      <td>0</td>\n",
       "      <td>0</td>\n",
       "      <td>21984.47061</td>\n",
       "      <td>0</td>\n",
       "      <td>1</td>\n",
       "      <td>0</td>\n",
       "      <td>0</td>\n",
       "    </tr>\n",
       "    <tr>\n",
       "      <th>4</th>\n",
       "      <td>32</td>\n",
       "      <td>0</td>\n",
       "      <td>28.880</td>\n",
       "      <td>0</td>\n",
       "      <td>0</td>\n",
       "      <td>3866.85520</td>\n",
       "      <td>0</td>\n",
       "      <td>1</td>\n",
       "      <td>0</td>\n",
       "      <td>0</td>\n",
       "    </tr>\n",
       "    <tr>\n",
       "      <th>...</th>\n",
       "      <td>...</td>\n",
       "      <td>...</td>\n",
       "      <td>...</td>\n",
       "      <td>...</td>\n",
       "      <td>...</td>\n",
       "      <td>...</td>\n",
       "      <td>...</td>\n",
       "      <td>...</td>\n",
       "      <td>...</td>\n",
       "      <td>...</td>\n",
       "    </tr>\n",
       "    <tr>\n",
       "      <th>1333</th>\n",
       "      <td>50</td>\n",
       "      <td>0</td>\n",
       "      <td>30.970</td>\n",
       "      <td>3</td>\n",
       "      <td>0</td>\n",
       "      <td>10600.54830</td>\n",
       "      <td>0</td>\n",
       "      <td>1</td>\n",
       "      <td>0</td>\n",
       "      <td>0</td>\n",
       "    </tr>\n",
       "    <tr>\n",
       "      <th>1334</th>\n",
       "      <td>18</td>\n",
       "      <td>1</td>\n",
       "      <td>31.920</td>\n",
       "      <td>0</td>\n",
       "      <td>0</td>\n",
       "      <td>2205.98080</td>\n",
       "      <td>1</td>\n",
       "      <td>0</td>\n",
       "      <td>0</td>\n",
       "      <td>0</td>\n",
       "    </tr>\n",
       "    <tr>\n",
       "      <th>1335</th>\n",
       "      <td>18</td>\n",
       "      <td>1</td>\n",
       "      <td>36.850</td>\n",
       "      <td>0</td>\n",
       "      <td>0</td>\n",
       "      <td>1629.83350</td>\n",
       "      <td>0</td>\n",
       "      <td>0</td>\n",
       "      <td>1</td>\n",
       "      <td>0</td>\n",
       "    </tr>\n",
       "    <tr>\n",
       "      <th>1336</th>\n",
       "      <td>21</td>\n",
       "      <td>1</td>\n",
       "      <td>25.800</td>\n",
       "      <td>0</td>\n",
       "      <td>0</td>\n",
       "      <td>2007.94500</td>\n",
       "      <td>0</td>\n",
       "      <td>0</td>\n",
       "      <td>0</td>\n",
       "      <td>1</td>\n",
       "    </tr>\n",
       "    <tr>\n",
       "      <th>1337</th>\n",
       "      <td>61</td>\n",
       "      <td>1</td>\n",
       "      <td>29.070</td>\n",
       "      <td>0</td>\n",
       "      <td>1</td>\n",
       "      <td>29141.36030</td>\n",
       "      <td>0</td>\n",
       "      <td>1</td>\n",
       "      <td>0</td>\n",
       "      <td>0</td>\n",
       "    </tr>\n",
       "  </tbody>\n",
       "</table>\n",
       "<p>1338 rows × 10 columns</p>\n",
       "</div>"
      ],
      "text/plain": [
       "      age  sex     bmi  children  smoker      charges  region_northeast  \\\n",
       "0      19    1  27.900         0       1  16884.92400                 0   \n",
       "1      18    0  33.770         1       0   1725.55230                 0   \n",
       "2      28    0  33.000         3       0   4449.46200                 0   \n",
       "3      33    0  22.705         0       0  21984.47061                 0   \n",
       "4      32    0  28.880         0       0   3866.85520                 0   \n",
       "...   ...  ...     ...       ...     ...          ...               ...   \n",
       "1333   50    0  30.970         3       0  10600.54830                 0   \n",
       "1334   18    1  31.920         0       0   2205.98080                 1   \n",
       "1335   18    1  36.850         0       0   1629.83350                 0   \n",
       "1336   21    1  25.800         0       0   2007.94500                 0   \n",
       "1337   61    1  29.070         0       1  29141.36030                 0   \n",
       "\n",
       "      region_northwest  region_southeast  region_southwest  \n",
       "0                    0                 0                 1  \n",
       "1                    0                 1                 0  \n",
       "2                    0                 1                 0  \n",
       "3                    1                 0                 0  \n",
       "4                    1                 0                 0  \n",
       "...                ...               ...               ...  \n",
       "1333                 1                 0                 0  \n",
       "1334                 0                 0                 0  \n",
       "1335                 0                 1                 0  \n",
       "1336                 0                 0                 1  \n",
       "1337                 1                 0                 0  \n",
       "\n",
       "[1338 rows x 10 columns]"
      ]
     },
     "execution_count": 87,
     "metadata": {},
     "output_type": "execute_result"
    }
   ],
   "source": [
    "df"
   ]
  },
  {
   "cell_type": "code",
   "execution_count": 88,
   "id": "a60fc14f",
   "metadata": {},
   "outputs": [
    {
     "name": "stdout",
     "output_type": "stream",
     "text": [
      "<class 'pandas.core.frame.DataFrame'>\n",
      "RangeIndex: 1338 entries, 0 to 1337\n",
      "Data columns (total 10 columns):\n",
      " #   Column            Non-Null Count  Dtype  \n",
      "---  ------            --------------  -----  \n",
      " 0   age               1338 non-null   int64  \n",
      " 1   sex               1338 non-null   int64  \n",
      " 2   bmi               1338 non-null   float64\n",
      " 3   children          1338 non-null   int64  \n",
      " 4   smoker            1338 non-null   int64  \n",
      " 5   charges           1338 non-null   float64\n",
      " 6   region_northeast  1338 non-null   uint8  \n",
      " 7   region_northwest  1338 non-null   uint8  \n",
      " 8   region_southeast  1338 non-null   uint8  \n",
      " 9   region_southwest  1338 non-null   uint8  \n",
      "dtypes: float64(2), int64(4), uint8(4)\n",
      "memory usage: 68.1 KB\n"
     ]
    }
   ],
   "source": [
    "df.info()"
   ]
  },
  {
   "cell_type": "code",
   "execution_count": 89,
   "id": "4c537ba4",
   "metadata": {},
   "outputs": [
    {
     "data": {
      "text/html": [
       "<div>\n",
       "<style scoped>\n",
       "    .dataframe tbody tr th:only-of-type {\n",
       "        vertical-align: middle;\n",
       "    }\n",
       "\n",
       "    .dataframe tbody tr th {\n",
       "        vertical-align: top;\n",
       "    }\n",
       "\n",
       "    .dataframe thead th {\n",
       "        text-align: right;\n",
       "    }\n",
       "</style>\n",
       "<table border=\"1\" class=\"dataframe\">\n",
       "  <thead>\n",
       "    <tr style=\"text-align: right;\">\n",
       "      <th></th>\n",
       "      <th>age</th>\n",
       "      <th>sex</th>\n",
       "      <th>bmi</th>\n",
       "      <th>children</th>\n",
       "      <th>smoker</th>\n",
       "      <th>charges</th>\n",
       "      <th>region_northeast</th>\n",
       "      <th>region_northwest</th>\n",
       "      <th>region_southeast</th>\n",
       "      <th>region_southwest</th>\n",
       "    </tr>\n",
       "  </thead>\n",
       "  <tbody>\n",
       "    <tr>\n",
       "      <th>count</th>\n",
       "      <td>1338.000000</td>\n",
       "      <td>1338.000000</td>\n",
       "      <td>1338.000000</td>\n",
       "      <td>1338.000000</td>\n",
       "      <td>1338.000000</td>\n",
       "      <td>1338.000000</td>\n",
       "      <td>1338.000000</td>\n",
       "      <td>1338.000000</td>\n",
       "      <td>1338.000000</td>\n",
       "      <td>1338.000000</td>\n",
       "    </tr>\n",
       "    <tr>\n",
       "      <th>mean</th>\n",
       "      <td>39.207025</td>\n",
       "      <td>0.494768</td>\n",
       "      <td>30.663397</td>\n",
       "      <td>1.094918</td>\n",
       "      <td>0.204783</td>\n",
       "      <td>13270.422265</td>\n",
       "      <td>0.242152</td>\n",
       "      <td>0.242900</td>\n",
       "      <td>0.272048</td>\n",
       "      <td>0.242900</td>\n",
       "    </tr>\n",
       "    <tr>\n",
       "      <th>std</th>\n",
       "      <td>14.049960</td>\n",
       "      <td>0.500160</td>\n",
       "      <td>6.098187</td>\n",
       "      <td>1.205493</td>\n",
       "      <td>0.403694</td>\n",
       "      <td>12110.011237</td>\n",
       "      <td>0.428546</td>\n",
       "      <td>0.428995</td>\n",
       "      <td>0.445181</td>\n",
       "      <td>0.428995</td>\n",
       "    </tr>\n",
       "    <tr>\n",
       "      <th>min</th>\n",
       "      <td>18.000000</td>\n",
       "      <td>0.000000</td>\n",
       "      <td>15.960000</td>\n",
       "      <td>0.000000</td>\n",
       "      <td>0.000000</td>\n",
       "      <td>1121.873900</td>\n",
       "      <td>0.000000</td>\n",
       "      <td>0.000000</td>\n",
       "      <td>0.000000</td>\n",
       "      <td>0.000000</td>\n",
       "    </tr>\n",
       "    <tr>\n",
       "      <th>25%</th>\n",
       "      <td>27.000000</td>\n",
       "      <td>0.000000</td>\n",
       "      <td>26.296250</td>\n",
       "      <td>0.000000</td>\n",
       "      <td>0.000000</td>\n",
       "      <td>4740.287150</td>\n",
       "      <td>0.000000</td>\n",
       "      <td>0.000000</td>\n",
       "      <td>0.000000</td>\n",
       "      <td>0.000000</td>\n",
       "    </tr>\n",
       "    <tr>\n",
       "      <th>50%</th>\n",
       "      <td>39.000000</td>\n",
       "      <td>0.000000</td>\n",
       "      <td>30.400000</td>\n",
       "      <td>1.000000</td>\n",
       "      <td>0.000000</td>\n",
       "      <td>9382.033000</td>\n",
       "      <td>0.000000</td>\n",
       "      <td>0.000000</td>\n",
       "      <td>0.000000</td>\n",
       "      <td>0.000000</td>\n",
       "    </tr>\n",
       "    <tr>\n",
       "      <th>75%</th>\n",
       "      <td>51.000000</td>\n",
       "      <td>1.000000</td>\n",
       "      <td>34.693750</td>\n",
       "      <td>2.000000</td>\n",
       "      <td>0.000000</td>\n",
       "      <td>16639.912515</td>\n",
       "      <td>0.000000</td>\n",
       "      <td>0.000000</td>\n",
       "      <td>1.000000</td>\n",
       "      <td>0.000000</td>\n",
       "    </tr>\n",
       "    <tr>\n",
       "      <th>max</th>\n",
       "      <td>64.000000</td>\n",
       "      <td>1.000000</td>\n",
       "      <td>53.130000</td>\n",
       "      <td>5.000000</td>\n",
       "      <td>1.000000</td>\n",
       "      <td>63770.428010</td>\n",
       "      <td>1.000000</td>\n",
       "      <td>1.000000</td>\n",
       "      <td>1.000000</td>\n",
       "      <td>1.000000</td>\n",
       "    </tr>\n",
       "  </tbody>\n",
       "</table>\n",
       "</div>"
      ],
      "text/plain": [
       "               age          sex          bmi     children       smoker  \\\n",
       "count  1338.000000  1338.000000  1338.000000  1338.000000  1338.000000   \n",
       "mean     39.207025     0.494768    30.663397     1.094918     0.204783   \n",
       "std      14.049960     0.500160     6.098187     1.205493     0.403694   \n",
       "min      18.000000     0.000000    15.960000     0.000000     0.000000   \n",
       "25%      27.000000     0.000000    26.296250     0.000000     0.000000   \n",
       "50%      39.000000     0.000000    30.400000     1.000000     0.000000   \n",
       "75%      51.000000     1.000000    34.693750     2.000000     0.000000   \n",
       "max      64.000000     1.000000    53.130000     5.000000     1.000000   \n",
       "\n",
       "            charges  region_northeast  region_northwest  region_southeast  \\\n",
       "count   1338.000000       1338.000000       1338.000000       1338.000000   \n",
       "mean   13270.422265          0.242152          0.242900          0.272048   \n",
       "std    12110.011237          0.428546          0.428995          0.445181   \n",
       "min     1121.873900          0.000000          0.000000          0.000000   \n",
       "25%     4740.287150          0.000000          0.000000          0.000000   \n",
       "50%     9382.033000          0.000000          0.000000          0.000000   \n",
       "75%    16639.912515          0.000000          0.000000          1.000000   \n",
       "max    63770.428010          1.000000          1.000000          1.000000   \n",
       "\n",
       "       region_southwest  \n",
       "count       1338.000000  \n",
       "mean           0.242900  \n",
       "std            0.428995  \n",
       "min            0.000000  \n",
       "25%            0.000000  \n",
       "50%            0.000000  \n",
       "75%            0.000000  \n",
       "max            1.000000  "
      ]
     },
     "execution_count": 89,
     "metadata": {},
     "output_type": "execute_result"
    }
   ],
   "source": [
    "df.describe()"
   ]
  },
  {
   "cell_type": "markdown",
   "id": "b4b3cc1a",
   "metadata": {},
   "source": [
    "# Feature Selection "
   ]
  },
  {
   "cell_type": "markdown",
   "id": "df39fa1a",
   "metadata": {},
   "source": [
    "# Assumptions of Linear Regression\n",
    "\n",
    "1.Linearity\n",
    "2.NO Multicolinearity"
   ]
  },
  {
   "cell_type": "code",
   "execution_count": 90,
   "id": "82ee223d",
   "metadata": {},
   "outputs": [
    {
     "data": {
      "text/html": [
       "<div>\n",
       "<style scoped>\n",
       "    .dataframe tbody tr th:only-of-type {\n",
       "        vertical-align: middle;\n",
       "    }\n",
       "\n",
       "    .dataframe tbody tr th {\n",
       "        vertical-align: top;\n",
       "    }\n",
       "\n",
       "    .dataframe thead th {\n",
       "        text-align: right;\n",
       "    }\n",
       "</style>\n",
       "<table border=\"1\" class=\"dataframe\">\n",
       "  <thead>\n",
       "    <tr style=\"text-align: right;\">\n",
       "      <th></th>\n",
       "      <th>age</th>\n",
       "      <th>sex</th>\n",
       "      <th>bmi</th>\n",
       "      <th>children</th>\n",
       "      <th>smoker</th>\n",
       "      <th>charges</th>\n",
       "      <th>region_northeast</th>\n",
       "      <th>region_northwest</th>\n",
       "      <th>region_southeast</th>\n",
       "      <th>region_southwest</th>\n",
       "    </tr>\n",
       "  </thead>\n",
       "  <tbody>\n",
       "    <tr>\n",
       "      <th>age</th>\n",
       "      <td>1.000000</td>\n",
       "      <td>0.020856</td>\n",
       "      <td>0.109272</td>\n",
       "      <td>0.042469</td>\n",
       "      <td>-0.025019</td>\n",
       "      <td>0.299008</td>\n",
       "      <td>0.002475</td>\n",
       "      <td>-0.000407</td>\n",
       "      <td>-0.011642</td>\n",
       "      <td>0.010016</td>\n",
       "    </tr>\n",
       "    <tr>\n",
       "      <th>sex</th>\n",
       "      <td>0.020856</td>\n",
       "      <td>1.000000</td>\n",
       "      <td>-0.046371</td>\n",
       "      <td>-0.017163</td>\n",
       "      <td>-0.076185</td>\n",
       "      <td>-0.057292</td>\n",
       "      <td>0.002425</td>\n",
       "      <td>0.011156</td>\n",
       "      <td>-0.017117</td>\n",
       "      <td>0.004184</td>\n",
       "    </tr>\n",
       "    <tr>\n",
       "      <th>bmi</th>\n",
       "      <td>0.109272</td>\n",
       "      <td>-0.046371</td>\n",
       "      <td>1.000000</td>\n",
       "      <td>0.012759</td>\n",
       "      <td>0.003750</td>\n",
       "      <td>0.198341</td>\n",
       "      <td>-0.138156</td>\n",
       "      <td>-0.135996</td>\n",
       "      <td>0.270025</td>\n",
       "      <td>-0.006205</td>\n",
       "    </tr>\n",
       "    <tr>\n",
       "      <th>children</th>\n",
       "      <td>0.042469</td>\n",
       "      <td>-0.017163</td>\n",
       "      <td>0.012759</td>\n",
       "      <td>1.000000</td>\n",
       "      <td>0.007673</td>\n",
       "      <td>0.067998</td>\n",
       "      <td>-0.022808</td>\n",
       "      <td>0.024806</td>\n",
       "      <td>-0.023066</td>\n",
       "      <td>0.021914</td>\n",
       "    </tr>\n",
       "    <tr>\n",
       "      <th>smoker</th>\n",
       "      <td>-0.025019</td>\n",
       "      <td>-0.076185</td>\n",
       "      <td>0.003750</td>\n",
       "      <td>0.007673</td>\n",
       "      <td>1.000000</td>\n",
       "      <td>0.787251</td>\n",
       "      <td>0.002811</td>\n",
       "      <td>-0.036945</td>\n",
       "      <td>0.068498</td>\n",
       "      <td>-0.036945</td>\n",
       "    </tr>\n",
       "    <tr>\n",
       "      <th>charges</th>\n",
       "      <td>0.299008</td>\n",
       "      <td>-0.057292</td>\n",
       "      <td>0.198341</td>\n",
       "      <td>0.067998</td>\n",
       "      <td>0.787251</td>\n",
       "      <td>1.000000</td>\n",
       "      <td>0.006349</td>\n",
       "      <td>-0.039905</td>\n",
       "      <td>0.073982</td>\n",
       "      <td>-0.043210</td>\n",
       "    </tr>\n",
       "    <tr>\n",
       "      <th>region_northeast</th>\n",
       "      <td>0.002475</td>\n",
       "      <td>0.002425</td>\n",
       "      <td>-0.138156</td>\n",
       "      <td>-0.022808</td>\n",
       "      <td>0.002811</td>\n",
       "      <td>0.006349</td>\n",
       "      <td>1.000000</td>\n",
       "      <td>-0.320177</td>\n",
       "      <td>-0.345561</td>\n",
       "      <td>-0.320177</td>\n",
       "    </tr>\n",
       "    <tr>\n",
       "      <th>region_northwest</th>\n",
       "      <td>-0.000407</td>\n",
       "      <td>0.011156</td>\n",
       "      <td>-0.135996</td>\n",
       "      <td>0.024806</td>\n",
       "      <td>-0.036945</td>\n",
       "      <td>-0.039905</td>\n",
       "      <td>-0.320177</td>\n",
       "      <td>1.000000</td>\n",
       "      <td>-0.346265</td>\n",
       "      <td>-0.320829</td>\n",
       "    </tr>\n",
       "    <tr>\n",
       "      <th>region_southeast</th>\n",
       "      <td>-0.011642</td>\n",
       "      <td>-0.017117</td>\n",
       "      <td>0.270025</td>\n",
       "      <td>-0.023066</td>\n",
       "      <td>0.068498</td>\n",
       "      <td>0.073982</td>\n",
       "      <td>-0.345561</td>\n",
       "      <td>-0.346265</td>\n",
       "      <td>1.000000</td>\n",
       "      <td>-0.346265</td>\n",
       "    </tr>\n",
       "    <tr>\n",
       "      <th>region_southwest</th>\n",
       "      <td>0.010016</td>\n",
       "      <td>0.004184</td>\n",
       "      <td>-0.006205</td>\n",
       "      <td>0.021914</td>\n",
       "      <td>-0.036945</td>\n",
       "      <td>-0.043210</td>\n",
       "      <td>-0.320177</td>\n",
       "      <td>-0.320829</td>\n",
       "      <td>-0.346265</td>\n",
       "      <td>1.000000</td>\n",
       "    </tr>\n",
       "  </tbody>\n",
       "</table>\n",
       "</div>"
      ],
      "text/plain": [
       "                       age       sex       bmi  children    smoker   charges  \\\n",
       "age               1.000000  0.020856  0.109272  0.042469 -0.025019  0.299008   \n",
       "sex               0.020856  1.000000 -0.046371 -0.017163 -0.076185 -0.057292   \n",
       "bmi               0.109272 -0.046371  1.000000  0.012759  0.003750  0.198341   \n",
       "children          0.042469 -0.017163  0.012759  1.000000  0.007673  0.067998   \n",
       "smoker           -0.025019 -0.076185  0.003750  0.007673  1.000000  0.787251   \n",
       "charges           0.299008 -0.057292  0.198341  0.067998  0.787251  1.000000   \n",
       "region_northeast  0.002475  0.002425 -0.138156 -0.022808  0.002811  0.006349   \n",
       "region_northwest -0.000407  0.011156 -0.135996  0.024806 -0.036945 -0.039905   \n",
       "region_southeast -0.011642 -0.017117  0.270025 -0.023066  0.068498  0.073982   \n",
       "region_southwest  0.010016  0.004184 -0.006205  0.021914 -0.036945 -0.043210   \n",
       "\n",
       "                  region_northeast  region_northwest  region_southeast  \\\n",
       "age                       0.002475         -0.000407         -0.011642   \n",
       "sex                       0.002425          0.011156         -0.017117   \n",
       "bmi                      -0.138156         -0.135996          0.270025   \n",
       "children                 -0.022808          0.024806         -0.023066   \n",
       "smoker                    0.002811         -0.036945          0.068498   \n",
       "charges                   0.006349         -0.039905          0.073982   \n",
       "region_northeast          1.000000         -0.320177         -0.345561   \n",
       "region_northwest         -0.320177          1.000000         -0.346265   \n",
       "region_southeast         -0.345561         -0.346265          1.000000   \n",
       "region_southwest         -0.320177         -0.320829         -0.346265   \n",
       "\n",
       "                  region_southwest  \n",
       "age                       0.010016  \n",
       "sex                       0.004184  \n",
       "bmi                      -0.006205  \n",
       "children                  0.021914  \n",
       "smoker                   -0.036945  \n",
       "charges                  -0.043210  \n",
       "region_northeast         -0.320177  \n",
       "region_northwest         -0.320829  \n",
       "region_southeast         -0.346265  \n",
       "region_southwest          1.000000  "
      ]
     },
     "execution_count": 90,
     "metadata": {},
     "output_type": "execute_result"
    }
   ],
   "source": [
    "# 1.Linearity\n",
    "\n",
    "df.corr()"
   ]
  },
  {
   "cell_type": "code",
   "execution_count": 91,
   "id": "136f9e21",
   "metadata": {},
   "outputs": [
    {
     "data": {
      "text/plain": [
       "<AxesSubplot:>"
      ]
     },
     "execution_count": 91,
     "metadata": {},
     "output_type": "execute_result"
    },
    {
     "data": {
      "image/png": "[encoded data removed]",
      "text/plain": [
       "<Figure size 1440x1440 with 2 Axes>"
      ]
     },
     "metadata": {
      "needs_background": "light"
     },
     "output_type": "display_data"
    }
   ],
   "source": [
    "plt.figure(figsize=(20,20))\n",
    "sns.heatmap(df.corr(),annot=True)"
   ]
  },
  {
   "cell_type": "code",
   "execution_count": 92,
   "id": "1bacb398",
   "metadata": {},
   "outputs": [
    {
     "data": {
      "text/plain": [
       "<seaborn.axisgrid.PairGrid at 0x1cec80882e0>"
      ]
     },
     "execution_count": 92,
     "metadata": {},
     "output_type": "execute_result"
    },
    {
     "data": {
      "text/plain": [
       "<Figure size 1440x1440 with 0 Axes>"
      ]
     },
     "metadata": {},
     "output_type": "display_data"
    },
    {
     "data": {
      "image/png": "[encoded data removed]",
      "text/plain": [
       "<Figure size 1800x1800 with 110 Axes>"
      ]
     },
     "metadata": {
      "needs_background": "light"
     },
     "output_type": "display_data"
    }
   ],
   "source": [
    "plt.figure(figsize=(20,20))\n",
    "sns.pairplot(df.corr())"
   ]
  },
  {
   "cell_type": "code",
   "execution_count": 93,
   "id": "5f1bef9d",
   "metadata": {},
   "outputs": [
    {
     "name": "stderr",
     "output_type": "stream",
     "text": [
      "C:\\Users\\MSETCL\\anaconda3\\lib\\site-packages\\seaborn\\distributions.py:2619: FutureWarning: `distplot` is a deprecated function and will be removed in a future version. Please adapt your code to use either `displot` (a figure-level function with similar flexibility) or `histplot` (an axes-level function for histograms).\n",
      "  warnings.warn(msg, FutureWarning)\n"
     ]
    },
    {
     "data": {
      "text/plain": [
       "<AxesSubplot:ylabel='Density'>"
      ]
     },
     "execution_count": 93,
     "metadata": {},
     "output_type": "execute_result"
    },
    {
     "data": {
      "image/png": "[encoded data removed]",
      "text/plain": [
       "<Figure size 432x288 with 1 Axes>"
      ]
     },
     "metadata": {
      "needs_background": "light"
     },
     "output_type": "display_data"
    }
   ],
   "source": [
    "sns.distplot(df)"
   ]
  },
  {
   "cell_type": "markdown",
   "id": "8f96563e",
   "metadata": {},
   "source": [
    "## 2.No Multicolinearity"
   ]
  },
  {
   "cell_type": "code",
   "execution_count": 94,
   "id": "e15909e8",
   "metadata": {},
   "outputs": [
    {
     "data": {
      "text/plain": [
       "array([[19.  ,  1.  , 27.9 , ...,  0.  ,  0.  ,  1.  ],\n",
       "       [18.  ,  0.  , 33.77, ...,  0.  ,  1.  ,  0.  ],\n",
       "       [28.  ,  0.  , 33.  , ...,  0.  ,  1.  ,  0.  ],\n",
       "       ...,\n",
       "       [18.  ,  1.  , 36.85, ...,  0.  ,  1.  ,  0.  ],\n",
       "       [21.  ,  1.  , 25.8 , ...,  0.  ,  0.  ,  1.  ],\n",
       "       [61.  ,  1.  , 29.07, ...,  1.  ,  0.  ,  0.  ]])"
      ]
     },
     "execution_count": 94,
     "metadata": {},
     "output_type": "execute_result"
    }
   ],
   "source": [
    "x=df.drop('charges',axis=1)\n",
    "x.to_numpy()"
   ]
  },
  {
   "cell_type": "code",
   "execution_count": 95,
   "id": "f93b65c7",
   "metadata": {},
   "outputs": [],
   "source": [
    "from statsmodels.stats.outliers_influence import variance_inflation_factor"
   ]
  },
  {
   "cell_type": "code",
   "execution_count": 96,
   "id": "0c170b08",
   "metadata": {},
   "outputs": [
    {
     "data": {
      "text/plain": [
       "[1.0168221490038107,\n",
       " 1.0089001621005735,\n",
       " 1.1066297324286172,\n",
       " 1.004010642137024,\n",
       " 1.0120736649061481,\n",
       " 8.810361912169723,\n",
       " 8.85581096509154,\n",
       " 11.779149322157394,\n",
       " 9.436480190645842]"
      ]
     },
     "execution_count": 96,
     "metadata": {},
     "output_type": "execute_result"
    }
   ],
   "source": [
    "VIF_list=[]\n",
    "\n",
    "for i in range(x.shape[1]):\n",
    "    vif=variance_inflation_factor(x.to_numpy(),i)\n",
    "    VIF_list.append(vif)\n",
    "    \n",
    "VIF_list"
   ]
  },
  {
   "cell_type": "code",
   "execution_count": 97,
   "id": "e9664af4",
   "metadata": {},
   "outputs": [],
   "source": [
    "# VIF =1 >> No Correlation\n",
    "# VIF = 1 to 5 >> Moderate\n",
    "# VIF > 10 >> High Correlation"
   ]
  },
  {
   "cell_type": "code",
   "execution_count": 98,
   "id": "eaae63f1",
   "metadata": {},
   "outputs": [
    {
     "data": {
      "text/plain": [
       "<AxesSubplot:>"
      ]
     },
     "execution_count": 98,
     "metadata": {},
     "output_type": "execute_result"
    },
    {
     "data": {
      "image/png": "[encoded data removed]",
      "text/plain": [
       "<Figure size 432x288 with 1 Axes>"
      ]
     },
     "metadata": {
      "needs_background": "light"
     },
     "output_type": "display_data"
    }
   ],
   "source": [
    "s1=pd.Series(VIF_list,index=x.columns)\n",
    "s1.sort_values().plot(kind='barh')"
   ]
  },
  {
   "cell_type": "code",
   "execution_count": null,
   "id": "ce21a1d3",
   "metadata": {},
   "outputs": [],
   "source": []
  },
  {
   "cell_type": "code",
   "execution_count": null,
   "id": "8c89c71d",
   "metadata": {},
   "outputs": [],
   "source": []
  },
  {
   "cell_type": "code",
   "execution_count": null,
   "id": "758667d4",
   "metadata": {},
   "outputs": [],
   "source": []
  },
  {
   "cell_type": "code",
   "execution_count": null,
   "id": "5c38b75a",
   "metadata": {},
   "outputs": [],
   "source": []
  },
  {
   "cell_type": "code",
   "execution_count": null,
   "id": "b14e1340",
   "metadata": {},
   "outputs": [],
   "source": []
  },
  {
   "cell_type": "markdown",
   "id": "62f628a8",
   "metadata": {},
   "source": [
    "# Train Test Split"
   ]
  },
  {
   "cell_type": "code",
   "execution_count": 99,
   "id": "5434a4dc",
   "metadata": {},
   "outputs": [],
   "source": [
    "x=df.drop('charges',axis=1)\n",
    "y=df['charges']"
   ]
  },
  {
   "cell_type": "code",
   "execution_count": 100,
   "id": "2b2df8df",
   "metadata": {},
   "outputs": [],
   "source": [
    "x_train,x_test,y_train,y_test=train_test_split(x,y,test_size=0.2,random_state=22)"
   ]
  },
  {
   "cell_type": "markdown",
   "id": "1546d035",
   "metadata": {},
   "source": [
    "# Model Building\n",
    "\n",
    "## 1.Linear Regression Model"
   ]
  },
  {
   "cell_type": "code",
   "execution_count": 101,
   "id": "1ddad4c1",
   "metadata": {},
   "outputs": [
    {
     "data": {
      "text/plain": [
       "LinearRegression()"
      ]
     },
     "execution_count": 101,
     "metadata": {},
     "output_type": "execute_result"
    }
   ],
   "source": [
    "model=LinearRegression()\n",
    "model.fit(x_train,y_train)"
   ]
  },
  {
   "cell_type": "code",
   "execution_count": 102,
   "id": "8893b489",
   "metadata": {},
   "outputs": [
    {
     "name": "stdout",
     "output_type": "stream",
     "text": [
      "\n",
      "Mean Squared Error== 36756707.427175306\n",
      "\n",
      "Root Mean Square== 6062.731020519986\n",
      "\n",
      "Mean Absolute Error== 4219.675852106941\n",
      "\n",
      "R2 Score== 0.7489031246174949\n"
     ]
    }
   ],
   "source": [
    "# For Training Data\n",
    "\n",
    "y_pred_train=model.predict(x_train)\n",
    "\n",
    "residule_train=y_train-y_pred_train\n",
    "\n",
    "mse=mean_squared_error(y_train,y_pred_train)\n",
    "print('\\nMean Squared Error==',mse)\n",
    "\n",
    "rmse=np.sqrt(mse)\n",
    "print('\\nRoot Mean Square==',rmse)\n",
    "\n",
    "mae=mean_absolute_error(y_train,y_pred_train)\n",
    "print('\\nMean Absolute Error==',mae)\n",
    "\n",
    "r2=r2_score(y_train,y_pred_train)\n",
    "print('\\nR2 Score==',r2)"
   ]
  },
  {
   "cell_type": "code",
   "execution_count": 103,
   "id": "1da42b5e",
   "metadata": {},
   "outputs": [
    {
     "name": "stdout",
     "output_type": "stream",
     "text": [
      "\n",
      "Mean Squared Error== 35708512.89854284\n",
      "\n",
      "Root Mean Square== 5975.6600387357075\n",
      "\n",
      "Mean Absolute Error== 4102.864882447442\n",
      "\n",
      "R2 Score== 0.757300757790294\n"
     ]
    }
   ],
   "source": [
    "# For Testing Data\n",
    "\n",
    "y_pred_test=model.predict(x_test)\n",
    "\n",
    "residule_test=y_test-y_pred_test\n",
    "\n",
    "mse=mean_squared_error(y_test,y_pred_test)\n",
    "print('\\nMean Squared Error==',mse)\n",
    "\n",
    "rmse=np.sqrt(mse)\n",
    "print('\\nRoot Mean Square==',rmse)\n",
    "\n",
    "mae=mean_absolute_error(y_test,y_pred_test)\n",
    "print('\\nMean Absolute Error==',mae)\n",
    "\n",
    "r2=r2_score(y_test,y_pred_test)\n",
    "print('\\nR2 Score==',r2)"
   ]
  },
  {
   "cell_type": "code",
   "execution_count": 104,
   "id": "d08673c1",
   "metadata": {},
   "outputs": [
    {
     "data": {
      "text/plain": [
       "array([  263.8877092 ,   236.82330748,   349.11234409,   461.86909369,\n",
       "       23573.24492429,   480.84949629,   235.48038815,  -492.40340508,\n",
       "        -223.92647936])"
      ]
     },
     "execution_count": 104,
     "metadata": {},
     "output_type": "execute_result"
    }
   ],
   "source": [
    "model.coef_"
   ]
  },
  {
   "cell_type": "code",
   "execution_count": 105,
   "id": "404f7cfd",
   "metadata": {},
   "outputs": [
    {
     "data": {
      "text/plain": [
       "<AxesSubplot:>"
      ]
     },
     "execution_count": 105,
     "metadata": {},
     "output_type": "execute_result"
    },
    {
     "data": {
      "image/png": "[encoded data removed]",
      "text/plain": [
       "<Figure size 1440x720 with 1 Axes>"
      ]
     },
     "metadata": {
      "needs_background": "light"
     },
     "output_type": "display_data"
    }
   ],
   "source": [
    "s2 = pd.Series(model.coef_,index = x.columns)\n",
    "plt.figure(figsize=(20,10))\n",
    "s2.sort_values().plot(kind = 'barh')"
   ]
  },
  {
   "cell_type": "markdown",
   "id": "e6c63b29",
   "metadata": {},
   "source": [
    "# Normality Test"
   ]
  },
  {
   "cell_type": "code",
   "execution_count": 106,
   "id": "b7fbc975",
   "metadata": {},
   "outputs": [
    {
     "data": {
      "text/plain": [
       "<AxesSubplot:xlabel='charges', ylabel='Density'>"
      ]
     },
     "execution_count": 106,
     "metadata": {},
     "output_type": "execute_result"
    },
    {
     "data": {
      "image/png": "[encoded data removed]",
      "text/plain": [
       "<Figure size 432x288 with 1 Axes>"
      ]
     },
     "metadata": {
      "needs_background": "light"
     },
     "output_type": "display_data"
    }
   ],
   "source": [
    "# 1.Kde Plot\n",
    "\n",
    "sns.kdeplot(residule_train)"
   ]
  },
  {
   "cell_type": "code",
   "execution_count": 107,
   "id": "15140309",
   "metadata": {},
   "outputs": [
    {
     "data": {
      "text/plain": [
       "<AxesSubplot:xlabel='charges', ylabel='Density'>"
      ]
     },
     "execution_count": 107,
     "metadata": {},
     "output_type": "execute_result"
    },
    {
     "data": {
      "image/png": "[encoded data removed]",
      "text/plain": [
       "<Figure size 432x288 with 1 Axes>"
      ]
     },
     "metadata": {
      "needs_background": "light"
     },
     "output_type": "display_data"
    }
   ],
   "source": [
    "sns.kdeplot(residule_test)"
   ]
  },
  {
   "cell_type": "code",
   "execution_count": 108,
   "id": "ca359162",
   "metadata": {},
   "outputs": [
    {
     "name": "stdout",
     "output_type": "stream",
     "text": [
      "P Value is  6.900060951081633e-26\n",
      "\n",
      "Data is Not Normally Distributed\n"
     ]
    }
   ],
   "source": [
    "# 2.Shapiro\n",
    "\n",
    "from scipy.stats import shapiro,normaltest,kstest\n",
    "\n",
    "_,p_cal=shapiro(residule_train)\n",
    "print(\"P Value is \",p_cal)\n",
    "if p_cal>0.05:\n",
    "    print('\\nData is Normally Distributed')\n",
    "else:\n",
    "    print('\\nData is Not Normally Distributed')\n",
    "    "
   ]
  },
  {
   "cell_type": "code",
   "execution_count": 109,
   "id": "11f1cfdd",
   "metadata": {},
   "outputs": [
    {
     "name": "stdout",
     "output_type": "stream",
     "text": [
      "P Value is  9.122981925481201e-54\n",
      "\n",
      "Data is Not Normally Distributed\n"
     ]
    }
   ],
   "source": [
    "# NormalTest\n",
    "\n",
    "_,p_cal=normaltest(residule_train)\n",
    "print(\"P Value is \",p_cal)\n",
    "if p_cal>0.05:\n",
    "    print('\\nData is Normally Distributed')\n",
    "else:\n",
    "    print('\\nData is Not Normally Distributed')"
   ]
  },
  {
   "cell_type": "code",
   "execution_count": 110,
   "id": "b25aafc3",
   "metadata": {},
   "outputs": [
    {
     "name": "stdout",
     "output_type": "stream",
     "text": [
      "P Value is  0.0\n",
      "\n",
      "Data is Not Normally Distributed\n"
     ]
    }
   ],
   "source": [
    "# 4. KS Test\n",
    "\n",
    "_,p_cal=kstest(residule_train,'norm')\n",
    "print(\"P Value is \",p_cal)\n",
    "if p_cal>0.05:\n",
    "    print('\\nData is Normally Distributed')\n",
    "else:\n",
    "    print('\\nData is Not Normally Distributed')"
   ]
  },
  {
   "cell_type": "code",
   "execution_count": 111,
   "id": "735169a1",
   "metadata": {},
   "outputs": [
    {
     "data": {
      "image/png": "[encoded data removed]",
      "text/plain": [
       "<Figure size 432x288 with 1 Axes>"
      ]
     },
     "execution_count": 111,
     "metadata": {},
     "output_type": "execute_result"
    },
    {
     "data": {
      "image/png": "[encoded data removed]",
      "text/plain": [
       "<Figure size 432x288 with 1 Axes>"
      ]
     },
     "metadata": {
      "needs_background": "light"
     },
     "output_type": "display_data"
    }
   ],
   "source": [
    "# QQ PLOT\n",
    "\n",
    "import scipy.stats as sts\n",
    "import statsmodels.api as sm\n",
    "\n",
    "sm.qqplot(residule_train,line = '45',dist = sts.norm,fit = True)"
   ]
  },
  {
   "cell_type": "markdown",
   "id": "1db2fe2b",
   "metadata": {},
   "source": [
    "# 4.Homoscedaticity"
   ]
  },
  {
   "cell_type": "markdown",
   "id": "479e6c60",
   "metadata": {},
   "source": [
    "1. Assumption of Equal Variance\n",
    "2. HomoScedasticity >> Constant Error\n",
    "3. Constant Error >> Constant Deviation from Zero Line\n",
    "4. Dependent Variable vs Residual"
   ]
  },
  {
   "cell_type": "code",
   "execution_count": 112,
   "id": "61c697e5",
   "metadata": {},
   "outputs": [
    {
     "data": {
      "text/plain": [
       "<AxesSubplot:xlabel='charges', ylabel='charges'>"
      ]
     },
     "execution_count": 112,
     "metadata": {},
     "output_type": "execute_result"
    },
    {
     "data": {
      "image/png": "[encoded data removed]",
      "text/plain": [
       "<Figure size 432x288 with 1 Axes>"
      ]
     },
     "metadata": {
      "needs_background": "light"
     },
     "output_type": "display_data"
    }
   ],
   "source": [
    "sns.scatterplot(x = y_train, y =residule_train)"
   ]
  },
  {
   "cell_type": "markdown",
   "id": "5357f28a",
   "metadata": {},
   "source": [
    "# 2.Ridge Regression"
   ]
  },
  {
   "cell_type": "code",
   "execution_count": 113,
   "id": "2a78fbe0",
   "metadata": {},
   "outputs": [
    {
     "name": "stdout",
     "output_type": "stream",
     "text": [
      "\n",
      "For Training Data\n",
      "\n",
      "Mean Squared Error== 37022923.1294463\n",
      "\n",
      "Root Mean Square== 6084.646508175007\n",
      "\n",
      "Mean Absolute Error== 4312.178069939968\n",
      "\n",
      "R2 Score== 0.7470845196417786\n",
      "****************************************************************************************************\n",
      "\n",
      "For Testing Data\n",
      "\n",
      "Mean Squared Error== 36527340.73357876\n",
      "\n",
      "Root Mean Square== 6043.7852984349765\n",
      "\n",
      "Mean Absolute Error== 4222.020923497272\n",
      "\n",
      "R2 Score== 0.751735449158482\n"
     ]
    }
   ],
   "source": [
    "ridge_model=Ridge(alpha=10)\n",
    "ridge_model.fit(x_train,y_train)\n",
    "\n",
    "print('\\nFor Training Data')\n",
    "\n",
    "y_pred_train=ridge_model.predict(x_train)\n",
    "\n",
    "residule_train=y_train-y_pred_train\n",
    "\n",
    "mse=mean_squared_error(y_train,y_pred_train)\n",
    "print('\\nMean Squared Error==',mse)\n",
    "\n",
    "rmse=np.sqrt(mse)\n",
    "print('\\nRoot Mean Square==',rmse)\n",
    "\n",
    "mae=mean_absolute_error(y_train,y_pred_train)\n",
    "print('\\nMean Absolute Error==',mae)\n",
    "\n",
    "r2=r2_score(y_train,y_pred_train)\n",
    "print('\\nR2 Score==',r2)\n",
    "\n",
    "print('*'*100)\n",
    "print('\\nFor Testing Data')\n",
    "\n",
    "y_pred_test=ridge_model.predict(x_test)\n",
    "\n",
    "residule_test=y_test-y_pred_test\n",
    "\n",
    "mse=mean_squared_error(y_test,y_pred_test)\n",
    "print('\\nMean Squared Error==',mse)\n",
    "\n",
    "rmse=np.sqrt(mse)\n",
    "print('\\nRoot Mean Square==',rmse)\n",
    "\n",
    "mae=mean_absolute_error(y_test,y_pred_test)\n",
    "print('\\nMean Absolute Error==',mae)\n",
    "\n",
    "r2=r2_score(y_test,y_pred_test)\n",
    "print('\\nR2 Score==',r2)"
   ]
  },
  {
   "cell_type": "code",
   "execution_count": 114,
   "id": "beebfe46",
   "metadata": {},
   "outputs": [
    {
     "data": {
      "text/plain": [
       "<AxesSubplot:>"
      ]
     },
     "execution_count": 114,
     "metadata": {},
     "output_type": "execute_result"
    },
    {
     "data": {
      "image/png": "[encoded data removed]",
      "text/plain": [
       "<Figure size 1440x720 with 1 Axes>"
      ]
     },
     "metadata": {
      "needs_background": "light"
     },
     "output_type": "display_data"
    }
   ],
   "source": [
    "s2 = pd.Series(ridge_model.coef_,index = x.columns)\n",
    "plt.figure(figsize=(20,10))\n",
    "s2.sort_values().plot(kind = 'barh')"
   ]
  },
  {
   "cell_type": "markdown",
   "id": "02a6aeaa",
   "metadata": {},
   "source": [
    "# 3.Lasso"
   ]
  },
  {
   "cell_type": "code",
   "execution_count": 115,
   "id": "50cba6d6",
   "metadata": {},
   "outputs": [
    {
     "name": "stdout",
     "output_type": "stream",
     "text": [
      "\n",
      "For Training Data\n",
      "\n",
      "Mean Squared Error== 36759648.80097537\n",
      "\n",
      "Root Mean Square== 6062.973593953331\n",
      "\n",
      "Mean Absolute Error== 4221.724782287392\n",
      "\n",
      "R2 Score== 0.748883031148242\n",
      "****************************************************************************************************\n",
      "\n",
      "For Testing Data\n",
      "\n",
      "Mean Squared Error== 35749150.94354274\n",
      "\n",
      "Root Mean Square== 5979.059369461282\n",
      "\n",
      "Mean Absolute Error== 4106.071694541286\n",
      "\n",
      "R2 Score== 0.757024554108713\n"
     ]
    }
   ],
   "source": [
    "lasso_model=Lasso(alpha=10)\n",
    "lasso_model.fit(x_train,y_train)\n",
    "\n",
    "print('\\nFor Training Data')\n",
    "\n",
    "y_pred_train=lasso_model.predict(x_train)\n",
    "\n",
    "residule_train=y_train-y_pred_train\n",
    "\n",
    "mse=mean_squared_error(y_train,y_pred_train)\n",
    "print('\\nMean Squared Error==',mse)\n",
    "\n",
    "rmse=np.sqrt(mse)\n",
    "print('\\nRoot Mean Square==',rmse)\n",
    "\n",
    "mae=mean_absolute_error(y_train,y_pred_train)\n",
    "print('\\nMean Absolute Error==',mae)\n",
    "\n",
    "r2=r2_score(y_train,y_pred_train)\n",
    "print('\\nR2 Score==',r2)\n",
    "\n",
    "print('*'*100)\n",
    "print('\\nFor Testing Data')\n",
    "\n",
    "y_pred_test=lasso_model.predict(x_test)\n",
    "\n",
    "residule_test=y_test-y_pred_test\n",
    "\n",
    "mse=mean_squared_error(y_test,y_pred_test)\n",
    "print('\\nMean Squared Error==',mse)\n",
    "\n",
    "rmse=np.sqrt(mse)\n",
    "print('\\nRoot Mean Square==',rmse)\n",
    "\n",
    "mae=mean_absolute_error(y_test,y_pred_test)\n",
    "print('\\nMean Absolute Error==',mae)\n",
    "\n",
    "r2=r2_score(y_test,y_pred_test)\n",
    "print('\\nR2 Score==',r2)"
   ]
  },
  {
   "cell_type": "code",
   "execution_count": 116,
   "id": "95ad1990",
   "metadata": {},
   "outputs": [
    {
     "data": {
      "text/plain": [
       "<AxesSubplot:>"
      ]
     },
     "execution_count": 116,
     "metadata": {},
     "output_type": "execute_result"
    },
    {
     "data": {
      "image/png": "[encoded data removed]",
      "text/plain": [
       "<Figure size 1440x720 with 1 Axes>"
      ]
     },
     "metadata": {
      "needs_background": "light"
     },
     "output_type": "display_data"
    }
   ],
   "source": [
    "s2 = pd.Series(lasso_model.coef_,index = x.columns)\n",
    "plt.figure(figsize=(20,10))\n",
    "s2.sort_values().plot(kind='barh')"
   ]
  },
  {
   "cell_type": "markdown",
   "id": "dd6d31fd",
   "metadata": {},
   "source": [
    "# 4.Ridge With Hyperparameter Tuning-Grid Seach CV"
   ]
  },
  {
   "cell_type": "code",
   "execution_count": 117,
   "id": "33676b6a",
   "metadata": {},
   "outputs": [
    {
     "name": "stdout",
     "output_type": "stream",
     "text": [
      "CPU times: total: 38.3 s\n",
      "Wall time: 23 s\n"
     ]
    },
    {
     "data": {
      "text/plain": [
       "GridSearchCV(cv=5, estimator=Ridge(),\n",
       "             param_grid={'alpha': array([0.01, 0.02, 0.03, 0.04, 0.05, 0.06, 0.07, 0.08, 0.09, 0.1 , 0.11,\n",
       "       0.12, 0.13, 0.14, 0.15, 0.16, 0.17, 0.18, 0.19, 0.2 , 0.21, 0.22,\n",
       "       0.23, 0.24, 0.25, 0.26, 0.27, 0.28, 0.29, 0.3 , 0.31, 0.32, 0.33,\n",
       "       0.34, 0.35, 0.36, 0.37, 0.38, 0.39, 0.4 , 0.41, 0.42, 0.43, 0.44,\n",
       "       0.45, 0.46, 0.47, 0.48, 0.49, 0.5 , 0.51, 0.52, 0.53, 0.54, 0.55,\n",
       "       0.56, 0.57, 0.58, 0....\n",
       "       2.21, 2.22, 2.23, 2.24, 2.25, 2.26, 2.27, 2.28, 2.29, 2.3 , 2.31,\n",
       "       2.32, 2.33, 2.34, 2.35, 2.36, 2.37, 2.38, 2.39, 2.4 , 2.41, 2.42,\n",
       "       2.43, 2.44, 2.45, 2.46, 2.47, 2.48, 2.49, 2.5 , 2.51, 2.52, 2.53,\n",
       "       2.54, 2.55, 2.56, 2.57, 2.58, 2.59, 2.6 , 2.61, 2.62, 2.63, 2.64,\n",
       "       2.65, 2.66, 2.67, 2.68, 2.69, 2.7 , 2.71, 2.72, 2.73, 2.74, 2.75,\n",
       "       2.76, 2.77, 2.78, 2.79, 2.8 , 2.81, 2.82, 2.83, 2.84, 2.85, 2.86,\n",
       "       2.87, 2.88, 2.89, 2.9 , 2.91, 2.92, 2.93, 2.94, 2.95, 2.96, 2.97,\n",
       "       2.98, 2.99])})"
      ]
     },
     "execution_count": 117,
     "metadata": {},
     "output_type": "execute_result"
    }
   ],
   "source": [
    "%%time\n",
    "\n",
    "model = Ridge()\n",
    "\n",
    "param_grid = {\"alpha\":np.arange(0.01,3,0.01)}\n",
    "\n",
    "model4 = GridSearchCV(model,param_grid,cv=5)\n",
    "model4.fit(x_train,y_train)"
   ]
  },
  {
   "cell_type": "code",
   "execution_count": 118,
   "id": "c9d2e5a4",
   "metadata": {},
   "outputs": [
    {
     "data": {
      "text/plain": [
       "{'alpha': 1.75}"
      ]
     },
     "execution_count": 118,
     "metadata": {},
     "output_type": "execute_result"
    }
   ],
   "source": [
    "model4.best_params_"
   ]
  },
  {
   "cell_type": "code",
   "execution_count": 119,
   "id": "5667866d",
   "metadata": {},
   "outputs": [
    {
     "name": "stdout",
     "output_type": "stream",
     "text": [
      "\n",
      "For Training Data\n",
      "\n",
      "Mean Squared Error== 36765145.196091115\n",
      "\n",
      "Root Mean Square== 6063.426852539009\n",
      "\n",
      "Mean Absolute Error== 4234.400183934111\n",
      "\n",
      "R2 Score== 0.7488454835076604\n",
      "****************************************************************************************************\n",
      "\n",
      "For Testing Data\n",
      "\n",
      "Mean Squared Error== 35818298.82274562\n",
      "\n",
      "Root Mean Square== 5984.839080772817\n",
      "\n",
      "Mean Absolute Error== 4122.839699368937\n",
      "\n",
      "R2 Score== 0.7565545782816426\n"
     ]
    }
   ],
   "source": [
    "model41=Ridge(alpha=1.7)\n",
    "model41.fit(x_train,y_train)\n",
    "\n",
    "print('\\nFor Training Data')\n",
    "\n",
    "y_pred_train=model41.predict(x_train)\n",
    "\n",
    "residule_train=y_train-y_pred_train\n",
    "\n",
    "mse=mean_squared_error(y_train,y_pred_train)\n",
    "print('\\nMean Squared Error==',mse)\n",
    "\n",
    "rmse=np.sqrt(mse)\n",
    "print('\\nRoot Mean Square==',rmse)\n",
    "\n",
    "mae=mean_absolute_error(y_train,y_pred_train)\n",
    "print('\\nMean Absolute Error==',mae)\n",
    "\n",
    "r2=r2_score(y_train,y_pred_train)\n",
    "print('\\nR2 Score==',r2)\n",
    "\n",
    "print('*'*100)\n",
    "print('\\nFor Testing Data')\n",
    "\n",
    "y_pred_test=model41.predict(x_test)\n",
    "\n",
    "residule_test=y_test-y_pred_test\n",
    "\n",
    "mse=mean_squared_error(y_test,y_pred_test)\n",
    "print('\\nMean Squared Error==',mse)\n",
    "\n",
    "rmse=np.sqrt(mse)\n",
    "print('\\nRoot Mean Square==',rmse)\n",
    "\n",
    "mae=mean_absolute_error(y_test,y_pred_test)\n",
    "print('\\nMean Absolute Error==',mae)\n",
    "\n",
    "r2=r2_score(y_test,y_pred_test)\n",
    "print('\\nR2 Score==',r2)"
   ]
  },
  {
   "cell_type": "markdown",
   "id": "a669e53c",
   "metadata": {},
   "source": [
    "# 5.Ridge With Hyperparameter Tuning-Randomised Seach CV"
   ]
  },
  {
   "cell_type": "code",
   "execution_count": 120,
   "id": "e5d0f336",
   "metadata": {},
   "outputs": [
    {
     "name": "stdout",
     "output_type": "stream",
     "text": [
      "CPU times: total: 641 ms\n",
      "Wall time: 318 ms\n"
     ]
    },
    {
     "data": {
      "text/plain": [
       "RandomizedSearchCV(cv=5, estimator=Ridge(),\n",
       "                   param_distributions={'alpha': array([0.01, 0.02, 0.03, 0.04, 0.05, 0.06, 0.07, 0.08, 0.09, 0.1 , 0.11,\n",
       "       0.12, 0.13, 0.14, 0.15, 0.16, 0.17, 0.18, 0.19, 0.2 , 0.21, 0.22,\n",
       "       0.23, 0.24, 0.25, 0.26, 0.27, 0.28, 0.29, 0.3 , 0.31, 0.32, 0.33,\n",
       "       0.34, 0.35, 0.36, 0.37, 0.38, 0.39, 0.4 , 0.41, 0.42, 0.43, 0.44,\n",
       "       0.45, 0.46, 0.47, 0.48, 0.49, 0.5 , 0.51, 0.52, 0.53, 0.54, 0.55,\n",
       "       0....\n",
       "       2.21, 2.22, 2.23, 2.24, 2.25, 2.26, 2.27, 2.28, 2.29, 2.3 , 2.31,\n",
       "       2.32, 2.33, 2.34, 2.35, 2.36, 2.37, 2.38, 2.39, 2.4 , 2.41, 2.42,\n",
       "       2.43, 2.44, 2.45, 2.46, 2.47, 2.48, 2.49, 2.5 , 2.51, 2.52, 2.53,\n",
       "       2.54, 2.55, 2.56, 2.57, 2.58, 2.59, 2.6 , 2.61, 2.62, 2.63, 2.64,\n",
       "       2.65, 2.66, 2.67, 2.68, 2.69, 2.7 , 2.71, 2.72, 2.73, 2.74, 2.75,\n",
       "       2.76, 2.77, 2.78, 2.79, 2.8 , 2.81, 2.82, 2.83, 2.84, 2.85, 2.86,\n",
       "       2.87, 2.88, 2.89, 2.9 , 2.91, 2.92, 2.93, 2.94, 2.95, 2.96, 2.97,\n",
       "       2.98, 2.99])})"
      ]
     },
     "execution_count": 120,
     "metadata": {},
     "output_type": "execute_result"
    }
   ],
   "source": [
    "%%time\n",
    "\n",
    "model = Ridge()\n",
    "\n",
    "param_grid = {\"alpha\":np.arange(0.01,3,0.01)}\n",
    "\n",
    "model5 = RandomizedSearchCV(model,param_grid,cv=5)\n",
    "model5.fit(x_train,y_train)"
   ]
  },
  {
   "cell_type": "code",
   "execution_count": 121,
   "id": "d02ee5e4",
   "metadata": {},
   "outputs": [
    {
     "data": {
      "text/plain": [
       "{'alpha': 1.83}"
      ]
     },
     "execution_count": 121,
     "metadata": {},
     "output_type": "execute_result"
    }
   ],
   "source": [
    "model5.best_params_"
   ]
  },
  {
   "cell_type": "code",
   "execution_count": 122,
   "id": "168b72e4",
   "metadata": {},
   "outputs": [
    {
     "name": "stdout",
     "output_type": "stream",
     "text": [
      "\n",
      "For Training Data\n",
      "\n",
      "Mean Squared Error== 36765047.16975395\n",
      "\n",
      "Root Mean Square== 6063.418769123072\n",
      "\n",
      "Mean Absolute Error== 4234.311068042284\n",
      "\n",
      "R2 Score== 0.7488461531570576\n",
      "****************************************************************************************************\n",
      "\n",
      "For Testing Data\n",
      "\n",
      "Mean Squared Error== 35817614.11256138\n",
      "\n",
      "Root Mean Square== 5984.7818767739045\n",
      "\n",
      "Mean Absolute Error== 4122.722575319423\n",
      "\n",
      "R2 Score== 0.7565592320358698\n"
     ]
    }
   ],
   "source": [
    "model51=Ridge(alpha=1.69)\n",
    "model51.fit(x_train,y_train)\n",
    "\n",
    "print('\\nFor Training Data')\n",
    "\n",
    "y_pred_train=model51.predict(x_train)\n",
    "\n",
    "residule_train=y_train-y_pred_train\n",
    "\n",
    "mse=mean_squared_error(y_train,y_pred_train)\n",
    "print('\\nMean Squared Error==',mse)\n",
    "\n",
    "rmse=np.sqrt(mse)\n",
    "print('\\nRoot Mean Square==',rmse)\n",
    "\n",
    "mae=mean_absolute_error(y_train,y_pred_train)\n",
    "print('\\nMean Absolute Error==',mae)\n",
    "\n",
    "r2=r2_score(y_train,y_pred_train)\n",
    "print('\\nR2 Score==',r2)\n",
    "\n",
    "print('*'*100)\n",
    "print('\\nFor Testing Data')\n",
    "\n",
    "y_pred_test=model51.predict(x_test)\n",
    "\n",
    "residule_test=y_test-y_pred_test\n",
    "\n",
    "mse=mean_squared_error(y_test,y_pred_test)\n",
    "print('\\nMean Squared Error==',mse)\n",
    "\n",
    "rmse=np.sqrt(mse)\n",
    "print('\\nRoot Mean Square==',rmse)\n",
    "\n",
    "mae=mean_absolute_error(y_test,y_pred_test)\n",
    "print('\\nMean Absolute Error==',mae)\n",
    "\n",
    "r2=r2_score(y_test,y_pred_test)\n",
    "print('\\nR2 Score==',r2)"
   ]
  },
  {
   "cell_type": "markdown",
   "id": "9624f0f4",
   "metadata": {},
   "source": [
    "# 6.Lasso Regression with Hyperparameter Tuning-Grid Search CV"
   ]
  },
  {
   "cell_type": "code",
   "execution_count": 123,
   "id": "d486f723",
   "metadata": {},
   "outputs": [
    {
     "name": "stderr",
     "output_type": "stream",
     "text": [
      "C:\\Users\\MSETCL\\anaconda3\\lib\\site-packages\\sklearn\\linear_model\\_coordinate_descent.py:647: ConvergenceWarning: Objective did not converge. You might want to increase the number of iterations, check the scale of the features or consider increasing regularisation. Duality gap: 9.389e+08, tolerance: 1.166e+07\n",
      "  model = cd_fast.enet_coordinate_descent(\n",
      "C:\\Users\\MSETCL\\anaconda3\\lib\\site-packages\\sklearn\\linear_model\\_coordinate_descent.py:647: ConvergenceWarning: Objective did not converge. You might want to increase the number of iterations, check the scale of the features or consider increasing regularisation. Duality gap: 9.389e+08, tolerance: 1.166e+07\n",
      "  model = cd_fast.enet_coordinate_descent(\n",
      "C:\\Users\\MSETCL\\anaconda3\\lib\\site-packages\\sklearn\\linear_model\\_coordinate_descent.py:647: ConvergenceWarning: Objective did not converge. You might want to increase the number of iterations, check the scale of the features or consider increasing regularisation. Duality gap: 9.390e+08, tolerance: 1.166e+07\n",
      "  model = cd_fast.enet_coordinate_descent(\n",
      "C:\\Users\\MSETCL\\anaconda3\\lib\\site-packages\\sklearn\\linear_model\\_coordinate_descent.py:647: ConvergenceWarning: Objective did not converge. You might want to increase the number of iterations, check the scale of the features or consider increasing regularisation. Duality gap: 9.391e+08, tolerance: 1.166e+07\n",
      "  model = cd_fast.enet_coordinate_descent(\n"
     ]
    },
    {
     "name": "stdout",
     "output_type": "stream",
     "text": [
      "CPU times: total: 24.4 s\n",
      "Wall time: 27.8 s\n"
     ]
    },
    {
     "data": {
      "text/plain": [
       "GridSearchCV(cv=5, estimator=Lasso(),\n",
       "             param_grid={'alpha': array([0.01, 0.02, 0.03, 0.04, 0.05, 0.06, 0.07, 0.08, 0.09, 0.1 , 0.11,\n",
       "       0.12, 0.13, 0.14, 0.15, 0.16, 0.17, 0.18, 0.19, 0.2 , 0.21, 0.22,\n",
       "       0.23, 0.24, 0.25, 0.26, 0.27, 0.28, 0.29, 0.3 , 0.31, 0.32, 0.33,\n",
       "       0.34, 0.35, 0.36, 0.37, 0.38, 0.39, 0.4 , 0.41, 0.42, 0.43, 0.44,\n",
       "       0.45, 0.46, 0.47, 0.48, 0.49, 0.5 , 0.51, 0.52, 0.53, 0.54, 0.55,\n",
       "       0.56, 0.57, 0.58, 0....\n",
       "       2.21, 2.22, 2.23, 2.24, 2.25, 2.26, 2.27, 2.28, 2.29, 2.3 , 2.31,\n",
       "       2.32, 2.33, 2.34, 2.35, 2.36, 2.37, 2.38, 2.39, 2.4 , 2.41, 2.42,\n",
       "       2.43, 2.44, 2.45, 2.46, 2.47, 2.48, 2.49, 2.5 , 2.51, 2.52, 2.53,\n",
       "       2.54, 2.55, 2.56, 2.57, 2.58, 2.59, 2.6 , 2.61, 2.62, 2.63, 2.64,\n",
       "       2.65, 2.66, 2.67, 2.68, 2.69, 2.7 , 2.71, 2.72, 2.73, 2.74, 2.75,\n",
       "       2.76, 2.77, 2.78, 2.79, 2.8 , 2.81, 2.82, 2.83, 2.84, 2.85, 2.86,\n",
       "       2.87, 2.88, 2.89, 2.9 , 2.91, 2.92, 2.93, 2.94, 2.95, 2.96, 2.97,\n",
       "       2.98, 2.99])})"
      ]
     },
     "execution_count": 123,
     "metadata": {},
     "output_type": "execute_result"
    }
   ],
   "source": [
    "%%time\n",
    "\n",
    "model = Lasso()\n",
    "\n",
    "param_grid = {\"alpha\":np.arange(0.01,3,0.01)}\n",
    "\n",
    "model6 = GridSearchCV(model,param_grid,cv=5)\n",
    "model6.fit(x_train,y_train)"
   ]
  },
  {
   "cell_type": "code",
   "execution_count": 124,
   "id": "e7b1dd47",
   "metadata": {},
   "outputs": [
    {
     "data": {
      "text/plain": [
       "{'alpha': 2.9899999999999998}"
      ]
     },
     "execution_count": 124,
     "metadata": {},
     "output_type": "execute_result"
    }
   ],
   "source": [
    "model6.best_params_"
   ]
  },
  {
   "cell_type": "code",
   "execution_count": 125,
   "id": "74ca90c8",
   "metadata": {},
   "outputs": [
    {
     "name": "stdout",
     "output_type": "stream",
     "text": [
      "\n",
      "For Training Data\n",
      "\n",
      "Mean Squared Error== 36756970.17089155\n",
      "\n",
      "Root Mean Square== 6062.752689240388\n",
      "\n",
      "Mean Absolute Error== 4220.23581091411\n",
      "\n",
      "R2 Score== 0.748901329730771\n",
      "****************************************************************************************************\n",
      "\n",
      "For Testing Data\n",
      "\n",
      "Mean Squared Error== 35720047.468270995\n",
      "\n",
      "Root Mean Square== 5976.625090155061\n",
      "\n",
      "Mean Absolute Error== 4103.763257295884\n",
      "\n",
      "R2 Score== 0.7572223610410317\n"
     ]
    }
   ],
   "source": [
    "model61=Lasso(alpha=2.9899999999999998)\n",
    "model61.fit(x_train,y_train)\n",
    "\n",
    "print('\\nFor Training Data')\n",
    "\n",
    "y_pred_train=model61.predict(x_train)\n",
    "\n",
    "residule_train=y_train-y_pred_train\n",
    "\n",
    "mse=mean_squared_error(y_train,y_pred_train)\n",
    "print('\\nMean Squared Error==',mse)\n",
    "\n",
    "rmse=np.sqrt(mse)\n",
    "print('\\nRoot Mean Square==',rmse)\n",
    "\n",
    "mae=mean_absolute_error(y_train,y_pred_train)\n",
    "print('\\nMean Absolute Error==',mae)\n",
    "\n",
    "r2=r2_score(y_train,y_pred_train)\n",
    "print('\\nR2 Score==',r2)\n",
    "\n",
    "print('*'*100)\n",
    "print('\\nFor Testing Data')\n",
    "\n",
    "y_pred_test=model61.predict(x_test)\n",
    "\n",
    "residule_test=y_test-y_pred_test\n",
    "\n",
    "mse=mean_squared_error(y_test,y_pred_test)\n",
    "print('\\nMean Squared Error==',mse)\n",
    "\n",
    "rmse=np.sqrt(mse)\n",
    "print('\\nRoot Mean Square==',rmse)\n",
    "\n",
    "mae=mean_absolute_error(y_test,y_pred_test)\n",
    "print('\\nMean Absolute Error==',mae)\n",
    "\n",
    "r2=r2_score(y_test,y_pred_test)\n",
    "print('\\nR2 Score==',r2)"
   ]
  },
  {
   "cell_type": "markdown",
   "id": "943fb29c",
   "metadata": {},
   "source": [
    "# 7.Lasso Regression with Hyperparameter Tuning-Randomised Search CV"
   ]
  },
  {
   "cell_type": "code",
   "execution_count": 126,
   "id": "38e6cd3f",
   "metadata": {},
   "outputs": [
    {
     "name": "stdout",
     "output_type": "stream",
     "text": [
      "CPU times: total: 984 ms\n",
      "Wall time: 1.13 s\n"
     ]
    },
    {
     "data": {
      "text/plain": [
       "RandomizedSearchCV(cv=5, estimator=Lasso(),\n",
       "                   param_distributions={'alpha': array([0.01, 0.02, 0.03, 0.04, 0.05, 0.06, 0.07, 0.08, 0.09, 0.1 , 0.11,\n",
       "       0.12, 0.13, 0.14, 0.15, 0.16, 0.17, 0.18, 0.19, 0.2 , 0.21, 0.22,\n",
       "       0.23, 0.24, 0.25, 0.26, 0.27, 0.28, 0.29, 0.3 , 0.31, 0.32, 0.33,\n",
       "       0.34, 0.35, 0.36, 0.37, 0.38, 0.39, 0.4 , 0.41, 0.42, 0.43, 0.44,\n",
       "       0.45, 0.46, 0.47, 0.48, 0.49, 0.5 , 0.51, 0.52, 0.53, 0.54, 0.55,\n",
       "       0....\n",
       "       2.21, 2.22, 2.23, 2.24, 2.25, 2.26, 2.27, 2.28, 2.29, 2.3 , 2.31,\n",
       "       2.32, 2.33, 2.34, 2.35, 2.36, 2.37, 2.38, 2.39, 2.4 , 2.41, 2.42,\n",
       "       2.43, 2.44, 2.45, 2.46, 2.47, 2.48, 2.49, 2.5 , 2.51, 2.52, 2.53,\n",
       "       2.54, 2.55, 2.56, 2.57, 2.58, 2.59, 2.6 , 2.61, 2.62, 2.63, 2.64,\n",
       "       2.65, 2.66, 2.67, 2.68, 2.69, 2.7 , 2.71, 2.72, 2.73, 2.74, 2.75,\n",
       "       2.76, 2.77, 2.78, 2.79, 2.8 , 2.81, 2.82, 2.83, 2.84, 2.85, 2.86,\n",
       "       2.87, 2.88, 2.89, 2.9 , 2.91, 2.92, 2.93, 2.94, 2.95, 2.96, 2.97,\n",
       "       2.98, 2.99])})"
      ]
     },
     "execution_count": 126,
     "metadata": {},
     "output_type": "execute_result"
    }
   ],
   "source": [
    "%%time\n",
    "\n",
    "model = Lasso()\n",
    "\n",
    "param_grid = {\"alpha\":np.arange(0.01,3,0.01)}\n",
    "\n",
    "model7 = RandomizedSearchCV(model,param_grid,cv=5)\n",
    "model7.fit(x_train,y_train)"
   ]
  },
  {
   "cell_type": "code",
   "execution_count": 127,
   "id": "6d6d6873",
   "metadata": {},
   "outputs": [
    {
     "data": {
      "text/plain": [
       "{'alpha': 2.7199999999999998}"
      ]
     },
     "execution_count": 127,
     "metadata": {},
     "output_type": "execute_result"
    }
   ],
   "source": [
    "model7.best_params_"
   ]
  },
  {
   "cell_type": "code",
   "execution_count": 128,
   "id": "e8b7bf4a",
   "metadata": {},
   "outputs": [
    {
     "name": "stdout",
     "output_type": "stream",
     "text": [
      "\n",
      "For Training Data\n",
      "\n",
      "Mean Squared Error== 36756963.17139945\n",
      "\n",
      "Root Mean Square== 6062.7521119867215\n",
      "\n",
      "Mean Absolute Error== 4220.228355786304\n",
      "\n",
      "R2 Score== 0.7489013775465498\n",
      "****************************************************************************************************\n",
      "\n",
      "For Testing Data\n",
      "\n",
      "Mean Squared Error== 35719889.021508925\n",
      "\n",
      "Root Mean Square== 5976.611834602355\n",
      "\n",
      "Mean Absolute Error== 4103.751278698534\n",
      "\n",
      "R2 Score== 0.7572234379525569\n"
     ]
    }
   ],
   "source": [
    "model71=Lasso(alpha=2.949999999999)\n",
    "model71.fit(x_train,y_train)\n",
    "\n",
    "print('\\nFor Training Data')\n",
    "\n",
    "y_pred_train=model71.predict(x_train)\n",
    "\n",
    "residule_train=y_train-y_pred_train\n",
    "\n",
    "mse=mean_squared_error(y_train,y_pred_train)\n",
    "print('\\nMean Squared Error==',mse)\n",
    "\n",
    "rmse=np.sqrt(mse)\n",
    "print('\\nRoot Mean Square==',rmse)\n",
    "\n",
    "mae=mean_absolute_error(y_train,y_pred_train)\n",
    "print('\\nMean Absolute Error==',mae)\n",
    "\n",
    "r2=r2_score(y_train,y_pred_train)\n",
    "print('\\nR2 Score==',r2)\n",
    "\n",
    "print('*'*100)\n",
    "print('\\nFor Testing Data')\n",
    "\n",
    "y_pred_test=model71.predict(x_test)\n",
    "\n",
    "residule_test=y_test-y_pred_test\n",
    "\n",
    "mse=mean_squared_error(y_test,y_pred_test)\n",
    "print('\\nMean Squared Error==',mse)\n",
    "\n",
    "rmse=np.sqrt(mse)\n",
    "print('\\nRoot Mean Square==',rmse)\n",
    "\n",
    "mae=mean_absolute_error(y_test,y_pred_test)\n",
    "print('\\nMean Absolute Error==',mae)\n",
    "\n",
    "r2=r2_score(y_test,y_pred_test)\n",
    "print('\\nR2 Score==',r2)"
   ]
  },
  {
   "cell_type": "markdown",
   "id": "24bebcbb",
   "metadata": {},
   "source": [
    "# -------------------------------------------Outliers-------------------------------------------------"
   ]
  },
  {
   "cell_type": "markdown",
   "id": "6b896176",
   "metadata": {},
   "source": [
    "# Detection of Outliers\n",
    "\n",
    "1.Z-score\n",
    "2.IQR Method\n",
    "3.Boxplot\n",
    "4.Scatterplot"
   ]
  },
  {
   "cell_type": "code",
   "execution_count": 129,
   "id": "19987ccf",
   "metadata": {},
   "outputs": [
    {
     "data": {
      "text/plain": [
       "<AxesSubplot:>"
      ]
     },
     "execution_count": 129,
     "metadata": {},
     "output_type": "execute_result"
    },
    {
     "data": {
      "image/png": "[encoded data removed]",
      "text/plain": [
       "<Figure size 1440x1440 with 1 Axes>"
      ]
     },
     "metadata": {
      "needs_background": "light"
     },
     "output_type": "display_data"
    }
   ],
   "source": [
    "plt.figure(figsize=(20,20))\n",
    "df.boxplot()"
   ]
  },
  {
   "cell_type": "code",
   "execution_count": 130,
   "id": "94f324a0",
   "metadata": {},
   "outputs": [
    {
     "data": {
      "text/plain": [
       "<AxesSubplot:>"
      ]
     },
     "execution_count": 130,
     "metadata": {},
     "output_type": "execute_result"
    },
    {
     "data": {
      "image/png": "[encoded data removed]",
      "text/plain": [
       "<Figure size 432x288 with 1 Axes>"
      ]
     },
     "metadata": {
      "needs_background": "light"
     },
     "output_type": "display_data"
    }
   ],
   "source": [
    "df[['age']].boxplot()"
   ]
  },
  {
   "cell_type": "markdown",
   "id": "a3db95f0",
   "metadata": {},
   "source": [
    "# 1.Z Score"
   ]
  },
  {
   "cell_type": "code",
   "execution_count": 131,
   "id": "79f2de00",
   "metadata": {},
   "outputs": [
    {
     "name": "stdout",
     "output_type": "stream",
     "text": [
      "Z Score Dictionary of Column=age is []\n",
      "****************************************************************************************************\n",
      "Z Score Dictionary of Column=sex is []\n",
      "****************************************************************************************************\n",
      "Z Score Dictionary of Column=bmi is [[49.06, 3.0178611981425605], [50.38, 3.234399911917402], [52.58, 3.595297768208803], [53.13, 3.685522232281654]]\n",
      "****************************************************************************************************\n",
      "Z Score Dictionary of Column=children is [[5, 3.240618711442044], [5, 3.240618711442044], [5, 3.240618711442044], [5, 3.240618711442044], [5, 3.240618711442044], [5, 3.240618711442044], [5, 3.240618711442044], [5, 3.240618711442044], [5, 3.240618711442044], [5, 3.240618711442044], [5, 3.240618711442044], [5, 3.240618711442044], [5, 3.240618711442044], [5, 3.240618711442044], [5, 3.240618711442044], [5, 3.240618711442044], [5, 3.240618711442044], [5, 3.240618711442044]]\n",
      "****************************************************************************************************\n",
      "Z Score Dictionary of Column=smoker is []\n",
      "****************************************************************************************************\n",
      "Z Score Dictionary of Column=charges is [[51194.55914, 3.132806075214621], [63770.42801, 4.17166316317004], [58571.07448, 3.74215922008173], [55135.40209, 3.4583480058316702], [52590.82939, 3.248148025811295], [60021.39897, 3.8619664391173902], [62592.87309, 4.074388669634486]]\n",
      "****************************************************************************************************\n",
      "Z Score Dictionary of Column=region_northeast is []\n",
      "****************************************************************************************************\n",
      "Z Score Dictionary of Column=region_northwest is []\n",
      "****************************************************************************************************\n",
      "Z Score Dictionary of Column=region_southeast is []\n",
      "****************************************************************************************************\n",
      "Z Score Dictionary of Column=region_southwest is []\n",
      "****************************************************************************************************\n"
     ]
    }
   ],
   "source": [
    "# If Data is normally Distributed Go for Z Score----Here as Data is skewed go g=for IQR \n",
    "\n",
    "def z_score_cal(arr1):\n",
    "    zscorearray=np.abs(stats.zscore(arr1))\n",
    "    threshold=3\n",
    "    outlierlist = []\n",
    "    \n",
    "    for i,j in enumerate(zscorearray):\n",
    "         if j > threshold:\n",
    "            outlierlist.append([arr1[i],j])\n",
    "    return outlierlist\n",
    "\n",
    "for i in df.columns:\n",
    "    a=z_score_cal(df[i])\n",
    "    print(f'Z Score Dictionary of Column={i} is {a}')\n",
    "    print('*'*100)"
   ]
  },
  {
   "cell_type": "markdown",
   "id": "6aa1d6f2",
   "metadata": {},
   "source": [
    "# 2.IQR Method"
   ]
  },
  {
   "cell_type": "code",
   "execution_count": 132,
   "id": "86d54e8c",
   "metadata": {},
   "outputs": [],
   "source": [
    "def iqr_cal(arr2):\n",
    "    q1=np.quantile(arr2,0.25)\n",
    "    q2=np.quantile(arr2,0.5)\n",
    "    q3=np.quantile(arr2,0.75)\n",
    "    \n",
    "    iqr=q3-q1\n",
    "    \n",
    "    lower_tail=q1-3*iqr\n",
    "    upper_tail=q3+3*iqr\n",
    "    \n",
    "    return lower_tail,upper_tail"
   ]
  },
  {
   "cell_type": "code",
   "execution_count": 133,
   "id": "02556208",
   "metadata": {},
   "outputs": [
    {
     "name": "stdout",
     "output_type": "stream",
     "text": [
      "Lower Tail=-45.0 and Upper Tail=123.0 of Column age\n",
      "****************************************************************************************************\n",
      "Lower Tail=-3.0 and Upper Tail=4.0 of Column sex\n",
      "****************************************************************************************************\n",
      "Lower Tail=1.103749999999998 and Upper Tail=59.886250000000004 of Column bmi\n",
      "****************************************************************************************************\n",
      "Lower Tail=-6.0 and Upper Tail=8.0 of Column children\n",
      "****************************************************************************************************\n",
      "Lower Tail=0.0 and Upper Tail=0.0 of Column smoker\n",
      "****************************************************************************************************\n",
      "Lower Tail=-30958.588945 and Upper Tail=52338.78861 of Column charges\n",
      "****************************************************************************************************\n",
      "Lower Tail=0.0 and Upper Tail=0.0 of Column region_northeast\n",
      "****************************************************************************************************\n",
      "Lower Tail=0.0 and Upper Tail=0.0 of Column region_northwest\n",
      "****************************************************************************************************\n",
      "Lower Tail=-3.0 and Upper Tail=4.0 of Column region_southeast\n",
      "****************************************************************************************************\n",
      "Lower Tail=0.0 and Upper Tail=0.0 of Column region_southwest\n",
      "****************************************************************************************************\n"
     ]
    }
   ],
   "source": [
    "for i in df.columns:\n",
    "    lt,ut=iqr_cal(df[i])\n",
    "    print(f'Lower Tail={lt} and Upper Tail={ut} of Column {i}')\n",
    "    print('*'*100)"
   ]
  },
  {
   "cell_type": "markdown",
   "id": "9ec5de50",
   "metadata": {},
   "source": [
    "This Model Doesnt have important Outliers hence R2 Score of Linear Regression Model is max hence we choose it as our Model"
   ]
  },
  {
   "cell_type": "markdown",
   "id": "fb6e31b4",
   "metadata": {},
   "source": [
    "KNN Method"
   ]
  },
  {
   "cell_type": "code",
   "execution_count": 135,
   "id": "0d5abeb7",
   "metadata": {},
   "outputs": [
    {
     "data": {
      "text/html": [
       "<div>\n",
       "<style scoped>\n",
       "    .dataframe tbody tr th:only-of-type {\n",
       "        vertical-align: middle;\n",
       "    }\n",
       "\n",
       "    .dataframe tbody tr th {\n",
       "        vertical-align: top;\n",
       "    }\n",
       "\n",
       "    .dataframe thead th {\n",
       "        text-align: right;\n",
       "    }\n",
       "</style>\n",
       "<table border=\"1\" class=\"dataframe\">\n",
       "  <thead>\n",
       "    <tr style=\"text-align: right;\">\n",
       "      <th></th>\n",
       "      <th>age</th>\n",
       "      <th>sex</th>\n",
       "      <th>bmi</th>\n",
       "      <th>children</th>\n",
       "      <th>smoker</th>\n",
       "      <th>charges</th>\n",
       "      <th>region_northeast</th>\n",
       "      <th>region_northwest</th>\n",
       "      <th>region_southeast</th>\n",
       "      <th>region_southwest</th>\n",
       "    </tr>\n",
       "  </thead>\n",
       "  <tbody>\n",
       "    <tr>\n",
       "      <th>0</th>\n",
       "      <td>19</td>\n",
       "      <td>1</td>\n",
       "      <td>27.900</td>\n",
       "      <td>0</td>\n",
       "      <td>1</td>\n",
       "      <td>16884.92400</td>\n",
       "      <td>0</td>\n",
       "      <td>0</td>\n",
       "      <td>0</td>\n",
       "      <td>1</td>\n",
       "    </tr>\n",
       "    <tr>\n",
       "      <th>1</th>\n",
       "      <td>18</td>\n",
       "      <td>0</td>\n",
       "      <td>33.770</td>\n",
       "      <td>1</td>\n",
       "      <td>0</td>\n",
       "      <td>1725.55230</td>\n",
       "      <td>0</td>\n",
       "      <td>0</td>\n",
       "      <td>1</td>\n",
       "      <td>0</td>\n",
       "    </tr>\n",
       "    <tr>\n",
       "      <th>2</th>\n",
       "      <td>28</td>\n",
       "      <td>0</td>\n",
       "      <td>33.000</td>\n",
       "      <td>3</td>\n",
       "      <td>0</td>\n",
       "      <td>4449.46200</td>\n",
       "      <td>0</td>\n",
       "      <td>0</td>\n",
       "      <td>1</td>\n",
       "      <td>0</td>\n",
       "    </tr>\n",
       "    <tr>\n",
       "      <th>3</th>\n",
       "      <td>33</td>\n",
       "      <td>0</td>\n",
       "      <td>22.705</td>\n",
       "      <td>0</td>\n",
       "      <td>0</td>\n",
       "      <td>21984.47061</td>\n",
       "      <td>0</td>\n",
       "      <td>1</td>\n",
       "      <td>0</td>\n",
       "      <td>0</td>\n",
       "    </tr>\n",
       "    <tr>\n",
       "      <th>4</th>\n",
       "      <td>32</td>\n",
       "      <td>0</td>\n",
       "      <td>28.880</td>\n",
       "      <td>0</td>\n",
       "      <td>0</td>\n",
       "      <td>3866.85520</td>\n",
       "      <td>0</td>\n",
       "      <td>1</td>\n",
       "      <td>0</td>\n",
       "      <td>0</td>\n",
       "    </tr>\n",
       "    <tr>\n",
       "      <th>...</th>\n",
       "      <td>...</td>\n",
       "      <td>...</td>\n",
       "      <td>...</td>\n",
       "      <td>...</td>\n",
       "      <td>...</td>\n",
       "      <td>...</td>\n",
       "      <td>...</td>\n",
       "      <td>...</td>\n",
       "      <td>...</td>\n",
       "      <td>...</td>\n",
       "    </tr>\n",
       "    <tr>\n",
       "      <th>1333</th>\n",
       "      <td>50</td>\n",
       "      <td>0</td>\n",
       "      <td>30.970</td>\n",
       "      <td>3</td>\n",
       "      <td>0</td>\n",
       "      <td>10600.54830</td>\n",
       "      <td>0</td>\n",
       "      <td>1</td>\n",
       "      <td>0</td>\n",
       "      <td>0</td>\n",
       "    </tr>\n",
       "    <tr>\n",
       "      <th>1334</th>\n",
       "      <td>18</td>\n",
       "      <td>1</td>\n",
       "      <td>31.920</td>\n",
       "      <td>0</td>\n",
       "      <td>0</td>\n",
       "      <td>2205.98080</td>\n",
       "      <td>1</td>\n",
       "      <td>0</td>\n",
       "      <td>0</td>\n",
       "      <td>0</td>\n",
       "    </tr>\n",
       "    <tr>\n",
       "      <th>1335</th>\n",
       "      <td>18</td>\n",
       "      <td>1</td>\n",
       "      <td>36.850</td>\n",
       "      <td>0</td>\n",
       "      <td>0</td>\n",
       "      <td>1629.83350</td>\n",
       "      <td>0</td>\n",
       "      <td>0</td>\n",
       "      <td>1</td>\n",
       "      <td>0</td>\n",
       "    </tr>\n",
       "    <tr>\n",
       "      <th>1336</th>\n",
       "      <td>21</td>\n",
       "      <td>1</td>\n",
       "      <td>25.800</td>\n",
       "      <td>0</td>\n",
       "      <td>0</td>\n",
       "      <td>2007.94500</td>\n",
       "      <td>0</td>\n",
       "      <td>0</td>\n",
       "      <td>0</td>\n",
       "      <td>1</td>\n",
       "    </tr>\n",
       "    <tr>\n",
       "      <th>1337</th>\n",
       "      <td>61</td>\n",
       "      <td>1</td>\n",
       "      <td>29.070</td>\n",
       "      <td>0</td>\n",
       "      <td>1</td>\n",
       "      <td>29141.36030</td>\n",
       "      <td>0</td>\n",
       "      <td>1</td>\n",
       "      <td>0</td>\n",
       "      <td>0</td>\n",
       "    </tr>\n",
       "  </tbody>\n",
       "</table>\n",
       "<p>1338 rows × 10 columns</p>\n",
       "</div>"
      ],
      "text/plain": [
       "      age  sex     bmi  children  smoker      charges  region_northeast  \\\n",
       "0      19    1  27.900         0       1  16884.92400                 0   \n",
       "1      18    0  33.770         1       0   1725.55230                 0   \n",
       "2      28    0  33.000         3       0   4449.46200                 0   \n",
       "3      33    0  22.705         0       0  21984.47061                 0   \n",
       "4      32    0  28.880         0       0   3866.85520                 0   \n",
       "...   ...  ...     ...       ...     ...          ...               ...   \n",
       "1333   50    0  30.970         3       0  10600.54830                 0   \n",
       "1334   18    1  31.920         0       0   2205.98080                 1   \n",
       "1335   18    1  36.850         0       0   1629.83350                 0   \n",
       "1336   21    1  25.800         0       0   2007.94500                 0   \n",
       "1337   61    1  29.070         0       1  29141.36030                 0   \n",
       "\n",
       "      region_northwest  region_southeast  region_southwest  \n",
       "0                    0                 0                 1  \n",
       "1                    0                 1                 0  \n",
       "2                    0                 1                 0  \n",
       "3                    1                 0                 0  \n",
       "4                    1                 0                 0  \n",
       "...                ...               ...               ...  \n",
       "1333                 1                 0                 0  \n",
       "1334                 0                 0                 0  \n",
       "1335                 0                 1                 0  \n",
       "1336                 0                 0                 1  \n",
       "1337                 1                 0                 0  \n",
       "\n",
       "[1338 rows x 10 columns]"
      ]
     },
     "execution_count": 135,
     "metadata": {},
     "output_type": "execute_result"
    }
   ],
   "source": [
    "df"
   ]
  },
  {
   "cell_type": "code",
   "execution_count": 137,
   "id": "4e11987c",
   "metadata": {},
   "outputs": [],
   "source": [
    "x=df.drop('charges',axis=1)\n",
    "y=df['charges']\n",
    "\n",
    "x_train,x_test,y_train,y_test=train_test_split(x,y,train_size=0.8,random_state=42)"
   ]
  },
  {
   "cell_type": "code",
   "execution_count": 144,
   "id": "68f83801",
   "metadata": {},
   "outputs": [
    {
     "data": {
      "text/plain": [
       "array([[0.60869565, 1.        , 0.10734463, ..., 1.        , 0.        ,\n",
       "        0.        ],\n",
       "       [0.63043478, 1.        , 0.22491256, ..., 0.        , 0.        ,\n",
       "        0.        ],\n",
       "       [0.73913043, 1.        , 0.23944041, ..., 0.        , 1.        ,\n",
       "        0.        ],\n",
       "       ...,\n",
       "       [0.86956522, 0.        , 0.24791499, ..., 0.        , 0.        ,\n",
       "        0.        ],\n",
       "       [0.41304348, 1.        , 0.85122411, ..., 0.        , 0.        ,\n",
       "        1.        ],\n",
       "       [0.80434783, 0.        , 0.37503363, ..., 0.        , 0.        ,\n",
       "        1.        ]])"
      ]
     },
     "execution_count": 144,
     "metadata": {},
     "output_type": "execute_result"
    }
   ],
   "source": [
    "# Normalization\n",
    "\n",
    "normal_scalar=MinMaxScaler()\n",
    "array=normal_scalar.fit_transform(x_train,y_train)\n",
    "array"
   ]
  },
  {
   "cell_type": "code",
   "execution_count": 146,
   "id": "8a1b5b58",
   "metadata": {},
   "outputs": [
    {
     "data": {
      "text/html": [
       "<div>\n",
       "<style scoped>\n",
       "    .dataframe tbody tr th:only-of-type {\n",
       "        vertical-align: middle;\n",
       "    }\n",
       "\n",
       "    .dataframe tbody tr th {\n",
       "        vertical-align: top;\n",
       "    }\n",
       "\n",
       "    .dataframe thead th {\n",
       "        text-align: right;\n",
       "    }\n",
       "</style>\n",
       "<table border=\"1\" class=\"dataframe\">\n",
       "  <thead>\n",
       "    <tr style=\"text-align: right;\">\n",
       "      <th></th>\n",
       "      <th>age</th>\n",
       "      <th>sex</th>\n",
       "      <th>bmi</th>\n",
       "      <th>children</th>\n",
       "      <th>smoker</th>\n",
       "      <th>region_northeast</th>\n",
       "      <th>region_northwest</th>\n",
       "      <th>region_southeast</th>\n",
       "      <th>region_southwest</th>\n",
       "    </tr>\n",
       "  </thead>\n",
       "  <tbody>\n",
       "    <tr>\n",
       "      <th>0</th>\n",
       "      <td>0.608696</td>\n",
       "      <td>1.0</td>\n",
       "      <td>0.107345</td>\n",
       "      <td>0.4</td>\n",
       "      <td>0.0</td>\n",
       "      <td>0.0</td>\n",
       "      <td>1.0</td>\n",
       "      <td>0.0</td>\n",
       "      <td>0.0</td>\n",
       "    </tr>\n",
       "    <tr>\n",
       "      <th>1</th>\n",
       "      <td>0.630435</td>\n",
       "      <td>1.0</td>\n",
       "      <td>0.224913</td>\n",
       "      <td>0.0</td>\n",
       "      <td>0.0</td>\n",
       "      <td>1.0</td>\n",
       "      <td>0.0</td>\n",
       "      <td>0.0</td>\n",
       "      <td>0.0</td>\n",
       "    </tr>\n",
       "    <tr>\n",
       "      <th>2</th>\n",
       "      <td>0.739130</td>\n",
       "      <td>1.0</td>\n",
       "      <td>0.239440</td>\n",
       "      <td>0.0</td>\n",
       "      <td>0.0</td>\n",
       "      <td>0.0</td>\n",
       "      <td>0.0</td>\n",
       "      <td>1.0</td>\n",
       "      <td>0.0</td>\n",
       "    </tr>\n",
       "    <tr>\n",
       "      <th>3</th>\n",
       "      <td>0.456522</td>\n",
       "      <td>1.0</td>\n",
       "      <td>0.493947</td>\n",
       "      <td>1.0</td>\n",
       "      <td>0.0</td>\n",
       "      <td>0.0</td>\n",
       "      <td>0.0</td>\n",
       "      <td>1.0</td>\n",
       "      <td>0.0</td>\n",
       "    </tr>\n",
       "    <tr>\n",
       "      <th>4</th>\n",
       "      <td>0.782609</td>\n",
       "      <td>1.0</td>\n",
       "      <td>0.148238</td>\n",
       "      <td>0.6</td>\n",
       "      <td>0.0</td>\n",
       "      <td>0.0</td>\n",
       "      <td>1.0</td>\n",
       "      <td>0.0</td>\n",
       "      <td>0.0</td>\n",
       "    </tr>\n",
       "    <tr>\n",
       "      <th>...</th>\n",
       "      <td>...</td>\n",
       "      <td>...</td>\n",
       "      <td>...</td>\n",
       "      <td>...</td>\n",
       "      <td>...</td>\n",
       "      <td>...</td>\n",
       "      <td>...</td>\n",
       "      <td>...</td>\n",
       "      <td>...</td>\n",
       "    </tr>\n",
       "    <tr>\n",
       "      <th>1065</th>\n",
       "      <td>0.000000</td>\n",
       "      <td>1.0</td>\n",
       "      <td>0.414044</td>\n",
       "      <td>0.8</td>\n",
       "      <td>0.0</td>\n",
       "      <td>1.0</td>\n",
       "      <td>0.0</td>\n",
       "      <td>0.0</td>\n",
       "      <td>0.0</td>\n",
       "    </tr>\n",
       "    <tr>\n",
       "      <th>1066</th>\n",
       "      <td>0.456522</td>\n",
       "      <td>1.0</td>\n",
       "      <td>0.212806</td>\n",
       "      <td>1.0</td>\n",
       "      <td>0.0</td>\n",
       "      <td>0.0</td>\n",
       "      <td>0.0</td>\n",
       "      <td>1.0</td>\n",
       "      <td>0.0</td>\n",
       "    </tr>\n",
       "    <tr>\n",
       "      <th>1067</th>\n",
       "      <td>0.869565</td>\n",
       "      <td>0.0</td>\n",
       "      <td>0.247915</td>\n",
       "      <td>0.0</td>\n",
       "      <td>0.0</td>\n",
       "      <td>1.0</td>\n",
       "      <td>0.0</td>\n",
       "      <td>0.0</td>\n",
       "      <td>0.0</td>\n",
       "    </tr>\n",
       "    <tr>\n",
       "      <th>1068</th>\n",
       "      <td>0.413043</td>\n",
       "      <td>1.0</td>\n",
       "      <td>0.851224</td>\n",
       "      <td>0.4</td>\n",
       "      <td>1.0</td>\n",
       "      <td>0.0</td>\n",
       "      <td>0.0</td>\n",
       "      <td>0.0</td>\n",
       "      <td>1.0</td>\n",
       "    </tr>\n",
       "    <tr>\n",
       "      <th>1069</th>\n",
       "      <td>0.804348</td>\n",
       "      <td>0.0</td>\n",
       "      <td>0.375034</td>\n",
       "      <td>0.0</td>\n",
       "      <td>0.0</td>\n",
       "      <td>0.0</td>\n",
       "      <td>0.0</td>\n",
       "      <td>0.0</td>\n",
       "      <td>1.0</td>\n",
       "    </tr>\n",
       "  </tbody>\n",
       "</table>\n",
       "<p>1070 rows × 9 columns</p>\n",
       "</div>"
      ],
      "text/plain": [
       "           age  sex       bmi  children  smoker  region_northeast  \\\n",
       "0     0.608696  1.0  0.107345       0.4     0.0               0.0   \n",
       "1     0.630435  1.0  0.224913       0.0     0.0               1.0   \n",
       "2     0.739130  1.0  0.239440       0.0     0.0               0.0   \n",
       "3     0.456522  1.0  0.493947       1.0     0.0               0.0   \n",
       "4     0.782609  1.0  0.148238       0.6     0.0               0.0   \n",
       "...        ...  ...       ...       ...     ...               ...   \n",
       "1065  0.000000  1.0  0.414044       0.8     0.0               1.0   \n",
       "1066  0.456522  1.0  0.212806       1.0     0.0               0.0   \n",
       "1067  0.869565  0.0  0.247915       0.0     0.0               1.0   \n",
       "1068  0.413043  1.0  0.851224       0.4     1.0               0.0   \n",
       "1069  0.804348  0.0  0.375034       0.0     0.0               0.0   \n",
       "\n",
       "      region_northwest  region_southeast  region_southwest  \n",
       "0                  1.0               0.0               0.0  \n",
       "1                  0.0               0.0               0.0  \n",
       "2                  0.0               1.0               0.0  \n",
       "3                  0.0               1.0               0.0  \n",
       "4                  1.0               0.0               0.0  \n",
       "...                ...               ...               ...  \n",
       "1065               0.0               0.0               0.0  \n",
       "1066               0.0               1.0               0.0  \n",
       "1067               0.0               0.0               0.0  \n",
       "1068               0.0               0.0               1.0  \n",
       "1069               0.0               0.0               1.0  \n",
       "\n",
       "[1070 rows x 9 columns]"
      ]
     },
     "execution_count": 146,
     "metadata": {},
     "output_type": "execute_result"
    }
   ],
   "source": [
    "x_train_norm=pd.DataFrame(array,columns=x_train.columns)\n",
    "x_train_norm"
   ]
  },
  {
   "cell_type": "code",
   "execution_count": 147,
   "id": "35dc5a74",
   "metadata": {},
   "outputs": [
    {
     "data": {
      "text/plain": [
       "KNeighborsRegressor()"
      ]
     },
     "execution_count": 147,
     "metadata": {},
     "output_type": "execute_result"
    }
   ],
   "source": [
    "model_knn=KNeighborsRegressor()\n",
    "model_knn.fit(x_train_norm,y_train)"
   ]
  },
  {
   "cell_type": "code",
   "execution_count": 149,
   "id": "01701546",
   "metadata": {},
   "outputs": [
    {
     "name": "stdout",
     "output_type": "stream",
     "text": [
      "Training Data Set Calculations\n",
      "R2 Score:- 0.8427348645043325\n",
      "Mean Squared Error:- 22698646.60989692\n",
      "Mean Absolute Error 2820.9042302897196\n",
      "****************************************************************************************************\n"
     ]
    }
   ],
   "source": [
    "print('Training Data Set Calculations')\n",
    "    \n",
    "y_pred_train=model_knn.predict(x_train_norm)\n",
    "    \n",
    "r2=r2_score(y_train,y_pred_train)\n",
    "print('R2 Score:-',r2)\n",
    "    \n",
    "mse=mean_squared_error(y_train,y_pred_train)\n",
    "print('Mean Squared Error:-',mse)\n",
    "    \n",
    "mae=mean_absolute_error(y_train,y_pred_train)\n",
    "print('Mean Absolute Error',mae)\n",
    "    \n",
    "print('*'*100)"
   ]
  },
  {
   "cell_type": "code",
   "execution_count": 152,
   "id": "9ce1a91b",
   "metadata": {},
   "outputs": [],
   "source": [
    "# for testing Data Normalization\n",
    "\n",
    "array1=normal_scalar.transform(x_test)\n",
    "\n",
    "x_test_norm=pd.DataFrame(array1,columns=x_test.columns)"
   ]
  },
  {
   "cell_type": "code",
   "execution_count": 153,
   "id": "d3ef8c47",
   "metadata": {},
   "outputs": [
    {
     "name": "stdout",
     "output_type": "stream",
     "text": [
      "Testing Data Set Calculations\n",
      "R2 Score:- 0.7860203933507237\n",
      "Mean Squared Error:- 33220062.497408804\n",
      "Mean Absolute Error 3599.650978541045\n"
     ]
    }
   ],
   "source": [
    "print('Testing Data Set Calculations')\n",
    "    \n",
    "y_pred_test=model_knn.predict(x_test_norm)\n",
    "    \n",
    "r2=r2_score(y_test,y_pred_test)\n",
    "print('R2 Score:-',r2)\n",
    "    \n",
    "mse=mean_squared_error(y_test,y_pred_test)\n",
    "print('Mean Squared Error:-',mse)\n",
    "    \n",
    "mae=mean_absolute_error(y_test,y_pred_test)\n",
    "print('Mean Absolute Error',mae)"
   ]
  },
  {
   "cell_type": "code",
   "execution_count": 165,
   "id": "a4963a7a",
   "metadata": {},
   "outputs": [],
   "source": [
    "r2_train=[]\n",
    "r2_test=[]\n",
    "\n",
    "krange=range(2,30)\n",
    "\n",
    "for k in krange:\n",
    "    modeltemp=KNeighborsRegressor(n_neighbors=k,p=1)\n",
    "    modeltemp.fit(x_train_norm,y_train)\n",
    "    y_pred_train=modeltemp.predict(x_train_norm)\n",
    "    r21=r2_score(y_train,y_pred_train)\n",
    "    r2_train.append(r21)\n",
    "    y_pred_test=modeltemp.predict(x_test_norm)\n",
    "    r22=r2_score(y_test,y_pred_test)\n",
    "    r2_test.append(r22)"
   ]
  },
  {
   "cell_type": "code",
   "execution_count": 166,
   "id": "c80143ca",
   "metadata": {},
   "outputs": [
    {
     "data": {
      "text/plain": [
       "28"
      ]
     },
     "execution_count": 166,
     "metadata": {},
     "output_type": "execute_result"
    }
   ],
   "source": [
    "len(r2_train)"
   ]
  },
  {
   "cell_type": "code",
   "execution_count": 167,
   "id": "b53d091f",
   "metadata": {},
   "outputs": [
    {
     "data": {
      "text/plain": [
       "Text(0, 0.5, 'R2-Score')"
      ]
     },
     "execution_count": 167,
     "metadata": {},
     "output_type": "execute_result"
    },
    {
     "data": {
      "image/png": "[encoded data removed]",
      "text/plain": [
       "<Figure size 1440x720 with 1 Axes>"
      ]
     },
     "metadata": {
      "needs_background": "light"
     },
     "output_type": "display_data"
    }
   ],
   "source": [
    "plt.figure(figsize=(20,10))\n",
    "plt.plot(krange,r2_train)\n",
    "plt.plot(krange,r2_test)\n",
    "\n",
    "plt.xlabel('K_Range')\n",
    "plt.ylabel('R2-Score')"
   ]
  },
  {
   "cell_type": "code",
   "execution_count": 178,
   "id": "1b4fa9ca",
   "metadata": {},
   "outputs": [
    {
     "data": {
      "text/plain": [
       "KNeighborsRegressor(n_neighbors=7, p=1)"
      ]
     },
     "execution_count": 178,
     "metadata": {},
     "output_type": "execute_result"
    }
   ],
   "source": [
    "model=KNeighborsRegressor(n_neighbors=7,p=1)\n",
    "model.fit(x_train_norm,y_train)"
   ]
  },
  {
   "cell_type": "code",
   "execution_count": 179,
   "id": "4d2d2675",
   "metadata": {},
   "outputs": [
    {
     "name": "stdout",
     "output_type": "stream",
     "text": [
      "Training Data Set Calculations\n",
      "R2 Score:- 0.8248811414710076\n",
      "Mean Squared Error:- 25275539.12028798\n",
      "Mean Absolute Error 3085.2764156982644\n",
      "****************************************************************************************************\n",
      "Testing Data Set Calculations\n",
      "R2 Score:- 0.7896273054899775\n",
      "Mean Squared Error:- 32660093.963187374\n",
      "Mean Absolute Error 3585.9862588715355\n"
     ]
    }
   ],
   "source": [
    "print('Training Data Set Calculations')\n",
    "    \n",
    "y_pred_train=model.predict(x_train_norm)\n",
    "    \n",
    "r2=r2_score(y_train,y_pred_train)\n",
    "print('R2 Score:-',r2)\n",
    "    \n",
    "mse=mean_squared_error(y_train,y_pred_train)\n",
    "print('Mean Squared Error:-',mse)\n",
    "    \n",
    "mae=mean_absolute_error(y_train,y_pred_train)\n",
    "print('Mean Absolute Error',mae)\n",
    "    \n",
    "print('*'*100)\n",
    "\n",
    "print('Testing Data Set Calculations')\n",
    "    \n",
    "y_pred_test=model.predict(x_test_norm)\n",
    "    \n",
    "r2=r2_score(y_test,y_pred_test)\n",
    "print('R2 Score:-',r2)\n",
    "    \n",
    "mse=mean_squared_error(y_test,y_pred_test)\n",
    "print('Mean Squared Error:-',mse)\n",
    "    \n",
    "mae=mean_absolute_error(y_test,y_pred_test)\n",
    "print('Mean Absolute Error',mae)"
   ]
  },
  {
   "cell_type": "code",
   "execution_count": 177,
   "id": "c859b3d3",
   "metadata": {},
   "outputs": [
    {
     "ename": "AttributeError",
     "evalue": "'KNeighborsRegressor' object has no attribute 'coef_'",
     "output_type": "error",
     "traceback": [
      "\u001b[1;31m---------------------------------------------------------------------------\u001b[0m",
      "\u001b[1;31mAttributeError\u001b[0m                            Traceback (most recent call last)",
      "Input \u001b[1;32mIn [177]\u001b[0m, in \u001b[0;36m<cell line: 1>\u001b[1;34m()\u001b[0m\n\u001b[1;32m----> 1\u001b[0m \u001b[43mmodel_best\u001b[49m\u001b[38;5;241;43m.\u001b[39;49m\u001b[43mcoef_\u001b[49m\n",
      "\u001b[1;31mAttributeError\u001b[0m: 'KNeighborsRegressor' object has no attribute 'coef_'"
     ]
    }
   ],
   "source": []
  },
  {
   "cell_type": "code",
   "execution_count": null,
   "id": "68704273",
   "metadata": {},
   "outputs": [],
   "source": []
  },
  {
   "cell_type": "markdown",
   "id": "27338fb3",
   "metadata": {},
   "source": [
    "# Testing on Single Row"
   ]
  },
  {
   "cell_type": "code",
   "execution_count": 180,
   "id": "d4363113",
   "metadata": {},
   "outputs": [
    {
     "data": {
      "text/html": [
       "<div>\n",
       "<style scoped>\n",
       "    .dataframe tbody tr th:only-of-type {\n",
       "        vertical-align: middle;\n",
       "    }\n",
       "\n",
       "    .dataframe tbody tr th {\n",
       "        vertical-align: top;\n",
       "    }\n",
       "\n",
       "    .dataframe thead th {\n",
       "        text-align: right;\n",
       "    }\n",
       "</style>\n",
       "<table border=\"1\" class=\"dataframe\">\n",
       "  <thead>\n",
       "    <tr style=\"text-align: right;\">\n",
       "      <th></th>\n",
       "      <th>age</th>\n",
       "      <th>sex</th>\n",
       "      <th>bmi</th>\n",
       "      <th>children</th>\n",
       "      <th>smoker</th>\n",
       "      <th>region_northeast</th>\n",
       "      <th>region_northwest</th>\n",
       "      <th>region_southeast</th>\n",
       "      <th>region_southwest</th>\n",
       "    </tr>\n",
       "  </thead>\n",
       "  <tbody>\n",
       "    <tr>\n",
       "      <th>0</th>\n",
       "      <td>19</td>\n",
       "      <td>1</td>\n",
       "      <td>27.900</td>\n",
       "      <td>0</td>\n",
       "      <td>1</td>\n",
       "      <td>0</td>\n",
       "      <td>0</td>\n",
       "      <td>0</td>\n",
       "      <td>1</td>\n",
       "    </tr>\n",
       "    <tr>\n",
       "      <th>1</th>\n",
       "      <td>18</td>\n",
       "      <td>0</td>\n",
       "      <td>33.770</td>\n",
       "      <td>1</td>\n",
       "      <td>0</td>\n",
       "      <td>0</td>\n",
       "      <td>0</td>\n",
       "      <td>1</td>\n",
       "      <td>0</td>\n",
       "    </tr>\n",
       "    <tr>\n",
       "      <th>2</th>\n",
       "      <td>28</td>\n",
       "      <td>0</td>\n",
       "      <td>33.000</td>\n",
       "      <td>3</td>\n",
       "      <td>0</td>\n",
       "      <td>0</td>\n",
       "      <td>0</td>\n",
       "      <td>1</td>\n",
       "      <td>0</td>\n",
       "    </tr>\n",
       "    <tr>\n",
       "      <th>3</th>\n",
       "      <td>33</td>\n",
       "      <td>0</td>\n",
       "      <td>22.705</td>\n",
       "      <td>0</td>\n",
       "      <td>0</td>\n",
       "      <td>0</td>\n",
       "      <td>1</td>\n",
       "      <td>0</td>\n",
       "      <td>0</td>\n",
       "    </tr>\n",
       "    <tr>\n",
       "      <th>4</th>\n",
       "      <td>32</td>\n",
       "      <td>0</td>\n",
       "      <td>28.880</td>\n",
       "      <td>0</td>\n",
       "      <td>0</td>\n",
       "      <td>0</td>\n",
       "      <td>1</td>\n",
       "      <td>0</td>\n",
       "      <td>0</td>\n",
       "    </tr>\n",
       "  </tbody>\n",
       "</table>\n",
       "</div>"
      ],
      "text/plain": [
       "   age  sex     bmi  children  smoker  region_northeast  region_northwest  \\\n",
       "0   19    1  27.900         0       1                 0                 0   \n",
       "1   18    0  33.770         1       0                 0                 0   \n",
       "2   28    0  33.000         3       0                 0                 0   \n",
       "3   33    0  22.705         0       0                 0                 1   \n",
       "4   32    0  28.880         0       0                 0                 1   \n",
       "\n",
       "   region_southeast  region_southwest  \n",
       "0                 0                 1  \n",
       "1                 1                 0  \n",
       "2                 1                 0  \n",
       "3                 0                 0  \n",
       "4                 0                 0  "
      ]
     },
     "execution_count": 180,
     "metadata": {},
     "output_type": "execute_result"
    }
   ],
   "source": [
    "x.head()"
   ]
  },
  {
   "cell_type": "code",
   "execution_count": 181,
   "id": "0f919d24",
   "metadata": {},
   "outputs": [],
   "source": [
    "age=67\n",
    "sex='male'\n",
    "bmi=28.3\n",
    "children=3\n",
    "smoker='yes'\n",
    "region='southeast'\n",
    "\n",
    "#charges=??"
   ]
  },
  {
   "cell_type": "code",
   "execution_count": 182,
   "id": "631eb9c9",
   "metadata": {},
   "outputs": [
    {
     "data": {
      "text/plain": [
       "array([0., 0., 0., 0., 0., 0., 0., 0., 0.])"
      ]
     },
     "execution_count": 182,
     "metadata": {},
     "output_type": "execute_result"
    }
   ],
   "source": [
    "test_array=np.zeros(len(x.columns))\n",
    "test_array"
   ]
  },
  {
   "cell_type": "code",
   "execution_count": 183,
   "id": "93011659",
   "metadata": {},
   "outputs": [],
   "source": [
    "test_array[0]=age\n",
    "#test_array[1]=sex\n",
    "test_array[2]=bmi\n",
    "test_array[3]=children\n",
    "#test_array[4]=smoker\n",
    "#test_array[0]=region              # No issue for int/float based columns for values putby user but we need to solve issue for string based\n",
    "                                # COLUMNS like sex,smoker,region lebel encoded columns"
   ]
  },
  {
   "cell_type": "code",
   "execution_count": 184,
   "id": "49e24f6d",
   "metadata": {},
   "outputs": [
    {
     "data": {
      "text/plain": [
       "{'sex': {'male': 0, 'female': 1}, 'smoker': {'no': 0, 'yes': 1}}"
      ]
     },
     "execution_count": 184,
     "metadata": {},
     "output_type": "execute_result"
    }
   ],
   "source": [
    "# For Label Encoding -- Sex Column and Smoker Column\n",
    "\n",
    "label_encoded_data={'sex':{'male': 0, 'female': 1},\n",
    "                    'smoker':{'no': 0, 'yes': 1}}\n",
    "\n",
    "label_encoded_data"
   ]
  },
  {
   "cell_type": "code",
   "execution_count": 185,
   "id": "bc614f52",
   "metadata": {},
   "outputs": [
    {
     "data": {
      "text/plain": [
       "0"
      ]
     },
     "execution_count": 185,
     "metadata": {},
     "output_type": "execute_result"
    }
   ],
   "source": [
    "label_encoded_data['sex'][sex]   #  sex variable have string input given by user with that said func gives us label encoded data "
   ]
  },
  {
   "cell_type": "code",
   "execution_count": 186,
   "id": "fa8a9da4",
   "metadata": {},
   "outputs": [
    {
     "data": {
      "text/plain": [
       "1"
      ]
     },
     "execution_count": 186,
     "metadata": {},
     "output_type": "execute_result"
    }
   ],
   "source": [
    "label_encoded_data['smoker'][smoker]"
   ]
  },
  {
   "cell_type": "markdown",
   "id": "bdd3b90a",
   "metadata": {},
   "source": [
    "# For One Hot Encoded Columns"
   ]
  },
  {
   "cell_type": "code",
   "execution_count": 187,
   "id": "b4451b7f",
   "metadata": {},
   "outputs": [
    {
     "data": {
      "text/plain": [
       "'region_southeast'"
      ]
     },
     "execution_count": 187,
     "metadata": {},
     "output_type": "execute_result"
    }
   ],
   "source": [
    "region='region_'+region  #As user isgoingto input only southeast but our column name is 'region_southeast'\n",
    "region"
   ]
  },
  {
   "cell_type": "code",
   "execution_count": 188,
   "id": "23446ade",
   "metadata": {},
   "outputs": [
    {
     "data": {
      "text/plain": [
       "7"
      ]
     },
     "execution_count": 188,
     "metadata": {},
     "output_type": "execute_result"
    }
   ],
   "source": [
    "region_index=np.where(x.columns==region)[0][0]\n",
    "region_index"
   ]
  },
  {
   "cell_type": "code",
   "execution_count": 189,
   "id": "e02e711e",
   "metadata": {},
   "outputs": [],
   "source": [
    "test_array[region_index]=1"
   ]
  },
  {
   "cell_type": "code",
   "execution_count": 190,
   "id": "58173632",
   "metadata": {},
   "outputs": [],
   "source": [
    "test_array[0]=age\n",
    "test_array[1]=label_encoded_data['sex'][sex]\n",
    "test_array[2]=bmi\n",
    "test_array[3]=children\n",
    "test_array[4]=label_encoded_data['smoker'][smoker]\n",
    "#test_array[0]=region"
   ]
  },
  {
   "cell_type": "code",
   "execution_count": 191,
   "id": "b24d9d80",
   "metadata": {},
   "outputs": [
    {
     "data": {
      "text/plain": [
       "array([67. ,  0. , 28.3,  3. ,  1. ,  0. ,  0. ,  1. ,  0. ])"
      ]
     },
     "execution_count": 191,
     "metadata": {},
     "output_type": "execute_result"
    }
   ],
   "source": [
    "test_array"
   ]
  },
  {
   "cell_type": "markdown",
   "id": "b9b46488",
   "metadata": {},
   "source": [
    "# Prediction of y Output for Single Input"
   ]
  },
  {
   "cell_type": "code",
   "execution_count": 192,
   "id": "d9cdfba6",
   "metadata": {},
   "outputs": [
    {
     "name": "stderr",
     "output_type": "stream",
     "text": [
      "C:\\Users\\MSETCL\\anaconda3\\lib\\site-packages\\sklearn\\base.py:450: UserWarning: X does not have valid feature names, but KNeighborsRegressor was fitted with feature names\n",
      "  warnings.warn(\n"
     ]
    },
    {
     "data": {
      "text/plain": [
       "array([47147.25595714])"
      ]
     },
     "execution_count": 192,
     "metadata": {},
     "output_type": "execute_result"
    }
   ],
   "source": [
    "model.predict([test_array])"
   ]
  },
  {
   "cell_type": "code",
   "execution_count": null,
   "id": "b9e91a09",
   "metadata": {},
   "outputs": [],
   "source": []
  },
  {
   "cell_type": "markdown",
   "id": "182fb825",
   "metadata": {},
   "source": [
    "# Creation of Pickle File for Model"
   ]
  },
  {
   "cell_type": "code",
   "execution_count": 193,
   "id": "514b628a",
   "metadata": {},
   "outputs": [],
   "source": [
    "import pickle"
   ]
  },
  {
   "cell_type": "code",
   "execution_count": 194,
   "id": "d1864f25",
   "metadata": {},
   "outputs": [],
   "source": [
    "with open(\"linear_model.pkl\",'wb') as f:\n",
    "    pickle.dump(model,f)"
   ]
  },
  {
   "cell_type": "markdown",
   "id": "8d66ae21",
   "metadata": {},
   "source": [
    "# json File\n",
    "when we need to give data to front end we give it in jason format\n",
    "We need all label enocoded Data in our Model as we only exported our Model not label enocded Data"
   ]
  },
  {
   "cell_type": "code",
   "execution_count": 195,
   "id": "39a901b0",
   "metadata": {},
   "outputs": [
    {
     "data": {
      "text/plain": [
       "{'sex': {'male': 0, 'female': 1},\n",
       " 'smoker': {'no': 0, 'yes': 1},\n",
       " 'columns': ['age',\n",
       "  'sex',\n",
       "  'bmi',\n",
       "  'children',\n",
       "  'smoker',\n",
       "  'region_northeast',\n",
       "  'region_northwest',\n",
       "  'region_southeast',\n",
       "  'region_southwest']}"
      ]
     },
     "execution_count": 195,
     "metadata": {},
     "output_type": "execute_result"
    }
   ],
   "source": [
    "project_data={'sex':{'male': 0, 'female': 1},            \n",
    "                    'smoker':{'no': 0, 'yes': 1},\n",
    "                   'columns':list(x.columns)}         # label_encoded_data + x.columns\n",
    "\n",
    "project_data"
   ]
  },
  {
   "cell_type": "code",
   "execution_count": 196,
   "id": "862fa62b",
   "metadata": {},
   "outputs": [],
   "source": [
    "import json\n",
    "\n",
    "with open('project_data.json','w') as f:\n",
    "    json.dump(project_data,f)"
   ]
  },
  {
   "cell_type": "code",
   "execution_count": null,
   "id": "70313cc4",
   "metadata": {},
   "outputs": [],
   "source": []
  }
 ],
 "metadata": {
  "kernelspec": {
   "display_name": "Python 3 (ipykernel)",
   "language": "python",
   "name": "python3"
  },
  "language_info": {
   "codemirror_mode": {
    "name": "ipython",
    "version": 3
   },
   "file_extension": ".py",
   "mimetype": "text/x-python",
   "name": "python",
   "nbconvert_exporter": "python",
   "pygments_lexer": "ipython3",
   "version": "3.9.12"
  }
 },
 "nbformat": 4,
 "nbformat_minor": 5
}
